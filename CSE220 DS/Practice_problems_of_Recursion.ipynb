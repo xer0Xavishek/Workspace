{
  "nbformat": 4,
  "nbformat_minor": 0,
  "metadata": {
    "colab": {
      "provenance": []
    },
    "kernelspec": {
      "name": "python3",
      "display_name": "Python 3"
    },
    "language_info": {
      "name": "python"
    }
  },
  "cells": [
    {
      "cell_type": "code",
      "execution_count": null,
      "metadata": {
        "colab": {
          "base_uri": "https://localhost:8080/"
        },
        "id": "q46pSwTR-4IW",
        "outputId": "86fd5b2b-a4ed-4bc9-986f-05c630bab3cc"
      },
      "outputs": [
        {
          "output_type": "stream",
          "name": "stdout",
          "text": [
            "120\n"
          ]
        }
      ],
      "source": [
        "##Factorial\n",
        "def fact(n):\n",
        "  if n==0 or n==1:\n",
        "    return 1\n",
        "  else:\n",
        "    return n*fact(n-1)\n",
        "print(fact(5))"
      ]
    },
    {
      "cell_type": "code",
      "source": [],
      "metadata": {
        "id": "4m7sJxLcr3AV"
      },
      "execution_count": null,
      "outputs": []
    },
    {
      "cell_type": "code",
      "source": [
        "##lenght og string\n",
        "def len_string(string):\n",
        "  if len(string)==0:\n",
        "    return 0\n",
        "  else:\n",
        "    return 1+len_string(string[1::])\n",
        "print(len_string('lenght'))"
      ],
      "metadata": {
        "colab": {
          "base_uri": "https://localhost:8080/"
        },
        "id": "WZqLcO2KArVP",
        "outputId": "22e68869-db7d-46be-f4e5-5c3ba2229ed6"
      },
      "execution_count": null,
      "outputs": [
        {
          "output_type": "stream",
          "name": "stdout",
          "text": [
            "6\n"
          ]
        }
      ]
    },
    {
      "cell_type": "code",
      "source": [
        "##sum\n",
        "def sum_of_numbers(arr):\n",
        "  sum=0\n",
        "  if len(arr)==0:\n",
        "    return 0\n",
        "  else:\n",
        "    sum+=arr[0]\n",
        "    return sum+sum_of_numbers(arr[1::])\n",
        "print(sum_of_numbers([1,2,3,4,5,20]))\n"
      ],
      "metadata": {
        "colab": {
          "base_uri": "https://localhost:8080/"
        },
        "id": "AvHyxUbvBOZR",
        "outputId": "4e591790-5675-4683-c64a-1237b6511f5c"
      },
      "execution_count": null,
      "outputs": [
        {
          "output_type": "stream",
          "name": "stdout",
          "text": [
            "35\n"
          ]
        }
      ]
    },
    {
      "cell_type": "code",
      "source": [
        "#max/min\n",
        "def maximum(a,b):\n",
        "  if a>=b:\n",
        "    return a\n",
        "  else:\n",
        "    return b\n",
        "def find_maximum(arr,n):\n",
        "  if n==1:\n",
        "    return arr[0]\n",
        "  else:\n",
        "    return maximum(arr[n-1],find_maximum(arr,n-1))\n",
        "\n",
        "\n",
        "a=[10,2,400,3,200]\n",
        "n=len(a)\n",
        "find_maximum(a,n)"
      ],
      "metadata": {
        "colab": {
          "base_uri": "https://localhost:8080/"
        },
        "id": "H8DMGIMgFKME",
        "outputId": "fd7f0baf-b056-4e4d-ebb1-83c9534af107"
      },
      "execution_count": null,
      "outputs": [
        {
          "output_type": "execute_result",
          "data": {
            "text/plain": [
              "400"
            ]
          },
          "metadata": {},
          "execution_count": 5
        }
      ]
    },
    {
      "cell_type": "code",
      "source": [
        "#max LLL\n",
        "class Node:\n",
        "  def __init__(self,elem,next):\n",
        "    self.elem=elem\n",
        "    self.next=next\n",
        "\n",
        "def createList(arr):\n",
        "  head=Node(arr[0],None)\n",
        "  tail=head\n",
        "  for i in range(1,len(arr)):\n",
        "    newNode=Node(arr[i],None)\n",
        "    tail.next=newNode\n",
        "    tail=newNode\n",
        "  return head\n",
        "\n",
        "\n",
        "def printLinkedList(head):\n",
        "  temp = head\n",
        "  while temp != None:\n",
        "    if temp.next != None:\n",
        "      print(temp.elem, end = '-->')\n",
        "    else:\n",
        "      print(temp.elem)\n",
        "    temp = temp.next\n",
        "  print()\n",
        "\n",
        "def maximum(a,b):\n",
        "  if a>=b:\n",
        "    return a\n",
        "  else:\n",
        "    return b\n",
        "def findMax(head):\n",
        "  if head.next== None:\n",
        "    return head.elem\n",
        "  else:\n",
        "    return maximum(head.elem,findMax(head.next))\n",
        "\n",
        "\n",
        "print(findMax(createList([10,2,400,3,200])))"
      ],
      "metadata": {
        "colab": {
          "base_uri": "https://localhost:8080/"
        },
        "id": "_zHQNfYuJerF",
        "outputId": "cdcc07e1-699c-4ef6-8f8e-c2959a1a3075"
      },
      "execution_count": null,
      "outputs": [
        {
          "output_type": "stream",
          "name": "stdout",
          "text": [
            "400\n"
          ]
        }
      ]
    },
    {
      "cell_type": "code",
      "source": [
        "#min LLL\n",
        "def minimum(a,b):\n",
        "  if a<=b:\n",
        "    return a\n",
        "  else:\n",
        "    return b\n",
        "def findMin(head):\n",
        "  if head.next == None:\n",
        "    return head.elem\n",
        "  else:\n",
        "    return minimum(head.elem,findMin(head.next))\n",
        "print(findMin(createList([10,2,500,400,200])))"
      ],
      "metadata": {
        "colab": {
          "base_uri": "https://localhost:8080/"
        },
        "id": "yGPeuWZyXqJq",
        "outputId": "767b4df9-4bcf-4cee-dd72-c87b4522a81d"
      },
      "execution_count": null,
      "outputs": [
        {
          "output_type": "stream",
          "name": "stdout",
          "text": [
            "2\n"
          ]
        }
      ]
    },
    {
      "cell_type": "code",
      "source": [
        "##Binary search\n",
        "def BinarySearch(arr,l,r,key):\n",
        "  if l>r:\n",
        "    return False\n",
        "  else:\n",
        "    mid=(l+r)//2\n",
        "    if key == arr[mid]:\n",
        "      return True\n",
        "    elif key > arr[mid]:\n",
        "      return BinarySearch(arr,mid+1,r,key)\n",
        "    elif key < arr[mid]:\n",
        "      return BinarySearch(arr,l,mid-1,key)\n",
        "print(BinarySearch([-2,-1,0,3,4,5,6,7,8],0,8,-1))"
      ],
      "metadata": {
        "colab": {
          "base_uri": "https://localhost:8080/"
        },
        "id": "hQtyQyZKZ4cs",
        "outputId": "cb5073ea-b2fa-48ef-c4ab-d274dd74ed3c"
      },
      "execution_count": null,
      "outputs": [
        {
          "output_type": "stream",
          "name": "stdout",
          "text": [
            "True\n"
          ]
        }
      ]
    },
    {
      "cell_type": "code",
      "source": [
        "def reverse_list(head):\n",
        "  if head == None:\n",
        "    return\n",
        "  reverse_list(head.next)\n",
        "  print(head.elem)\n",
        "\n",
        "reverse_list(createList([1,2,3,4,5,7,8]))"
      ],
      "metadata": {
        "colab": {
          "base_uri": "https://localhost:8080/"
        },
        "id": "3v6a7QOMa-FM",
        "outputId": "57ed239b-c5a0-418a-89fa-9bd8bf2e84f2"
      },
      "execution_count": null,
      "outputs": [
        {
          "output_type": "stream",
          "name": "stdout",
          "text": [
            "8\n",
            "7\n",
            "5\n",
            "4\n",
            "3\n",
            "2\n",
            "1\n"
          ]
        }
      ]
    },
    {
      "cell_type": "code",
      "source": [
        "def exp(a,n):\n",
        "  if n==0:\n",
        "    return 1\n",
        "  elif n%2==0:\n",
        "    temp=exp(a,n/2)\n",
        "    return temp*temp\n",
        "  else:\n",
        "    temp=exp(a,(n-1)/2)\n",
        "    return a*temp*temp\n",
        "print(exp(2,5))\n"
      ],
      "metadata": {
        "colab": {
          "base_uri": "https://localhost:8080/"
        },
        "id": "k1ktZ6IvgVLg",
        "outputId": "c0a945b9-9599-4782-8ef9-859584da91a8"
      },
      "execution_count": null,
      "outputs": [
        {
          "output_type": "stream",
          "name": "stdout",
          "text": [
            "32\n"
          ]
        }
      ]
    },
    {
      "cell_type": "code",
      "source": [
        "def changePi(s,i=0):\n",
        "  if i >=len(s):\n",
        "    return s\n",
        "  if s[i:i+2]=='pi':\n",
        "    s=s[:i]+\"3.14\"+s[i+2:]\n",
        "  return changePi(s,i+1)\n",
        "\n",
        "print(changePi('pipopixpipixpixpk'))\n"
      ],
      "metadata": {
        "colab": {
          "base_uri": "https://localhost:8080/"
        },
        "id": "3pqw3nkA2eW-",
        "outputId": "0ead1b40-629e-46f3-c400-f0866499feae"
      },
      "execution_count": null,
      "outputs": [
        {
          "output_type": "stream",
          "name": "stdout",
          "text": [
            "3.14po3.14x3.143.14x3.14xpk\n"
          ]
        }
      ]
    },
    {
      "cell_type": "markdown",
      "source": [
        "##Practice Problems\n"
      ],
      "metadata": {
        "id": "iwSVu-coiq6p"
      }
    },
    {
      "cell_type": "code",
      "source": [
        "##1\n",
        "def SumDigits(num):\n",
        "  sum=0\n",
        "  if num%10==0:\n",
        "    return sum\n",
        "  else:\n",
        "    r=num%10\n",
        "    q=num//10\n",
        "    sum+=r\n",
        "    return sum+SumDigits(q)\n",
        "print(SumDigits(129))\n"
      ],
      "metadata": {
        "colab": {
          "base_uri": "https://localhost:8080/"
        },
        "id": "DOnYV1Q_inQH",
        "outputId": "7434da20-ac7d-4813-a847-17221a9a4bdd"
      },
      "execution_count": null,
      "outputs": [
        {
          "output_type": "stream",
          "name": "stdout",
          "text": [
            "12\n"
          ]
        }
      ]
    },
    {
      "cell_type": "code",
      "source": [
        "##2\n",
        "def BunnyEars(n):\n",
        "  if n==0:\n",
        "    return 0\n",
        "  elif n%2==0:\n",
        "    return 2+BunnyEars(n-1)\n",
        "  else:\n",
        "    return 3+BunnyEars(n-1)\n",
        "print(BunnyEars(2))\n"
      ],
      "metadata": {
        "colab": {
          "base_uri": "https://localhost:8080/"
        },
        "id": "sxkaClg1lvnf",
        "outputId": "add9dff0-301b-43bb-92e2-434382bde1a0"
      },
      "execution_count": null,
      "outputs": [
        {
          "output_type": "stream",
          "name": "stdout",
          "text": [
            "5\n"
          ]
        }
      ]
    },
    {
      "cell_type": "code",
      "source": [
        "##3\n",
        "def occurence(num):\n",
        "  if num%10==0:\n",
        "    return 0\n",
        "  elif num%10 ==7:\n",
        "    num=num//10\n",
        "    return 1+occurence(num)\n",
        "\n",
        "  else:\n",
        "    num=num//10\n",
        "    return occurence(num)\n",
        "\n",
        "\n",
        "print(occurence(7171))"
      ],
      "metadata": {
        "colab": {
          "base_uri": "https://localhost:8080/"
        },
        "id": "Fdqs808Eok0I",
        "outputId": "f1a49e7e-dcb9-4be9-e7ea-7989ebfbae34"
      },
      "execution_count": null,
      "outputs": [
        {
          "output_type": "stream",
          "name": "stdout",
          "text": [
            "2\n"
          ]
        }
      ]
    },
    {
      "cell_type": "code",
      "source": [
        "##4\n",
        "import sys\n",
        "sys.setrecursionlimit(10000)\n",
        "class FinalQ:\n",
        "  def print(self,array,idx):\n",
        "    if idx< len(array):\n",
        "      profit=self.calcProfit(array[idx])\n",
        "      print(profit)\n",
        "      return self.print(array,idx+1)\n",
        "  def calcProfit(self,investment):\n",
        "    if investment <=25000:\n",
        "      return 0\n",
        "    elif 25000<investment<= 100000:\n",
        "      return 4.5+self.calcProfit(investment-100)\n",
        "    else:\n",
        "     return 8+self.calcProfit(investment-100)\n",
        "\n",
        "array=[25000,100000,250000,350000]\n",
        "f = FinalQ()\n",
        "f.print(array,0)\n"
      ],
      "metadata": {
        "id": "lryFeXHGqVVY",
        "outputId": "da1f23f7-53d6-4464-ac78-bffae2e7f92f",
        "colab": {
          "base_uri": "https://localhost:8080/"
        }
      },
      "execution_count": null,
      "outputs": [
        {
          "output_type": "stream",
          "name": "stdout",
          "text": [
            "0\n",
            "3375.0\n",
            "15375.0\n",
            "23375.0\n"
          ]
        }
      ]
    }
  ]
}