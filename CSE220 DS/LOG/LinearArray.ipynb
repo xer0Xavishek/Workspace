{
 "cells": [
  {
   "cell_type": "code",
   "execution_count": 1,
   "metadata": {
    "id": "LRQ0KRx3iB3_"
   },
   "outputs": [],
   "source": [
    "#Importing library\n",
    "import numpy as np"
   ]
  },
  {
   "cell_type": "code",
   "execution_count": null,
   "metadata": {
    "id": "-IKWr-P2ietR"
   },
   "outputs": [],
   "source": [
    "#Initializing lists\n",
    "\n",
    "a = [1, 2, 3, 4, 5]\n",
    "print(a)\n",
    "print(type(a))"
   ]
  },
  {
   "cell_type": "code",
   "execution_count": null,
   "metadata": {
    "id": "YuC5OHkPkQI1"
   },
   "outputs": [],
   "source": [
    "a = [1, 2.0, \"a\", 3]\n",
    "print(a) #storing different datatypes is also possible in list"
   ]
  },
  {
   "cell_type": "code",
   "execution_count": null,
   "metadata": {
    "id": "rk0dTfcniInE"
   },
   "outputs": [],
   "source": [
    "#Initializing a numpy array using a list\n",
    "\n",
    "a = np.array([1, 2, 3, 4, 5])\n",
    "print(a)\n",
    "print(type(a))"
   ]
  },
  {
   "cell_type": "code",
   "execution_count": null,
   "metadata": {
    "id": "Fl83JZ-7iLPu"
   },
   "outputs": [],
   "source": [
    "#Initializing a numpy array using a zeros\n",
    "\n",
    "a = np.zeros(3)\n",
    "print(a) #datatype by default is float"
   ]
  },
  {
   "cell_type": "code",
   "execution_count": null,
   "metadata": {
    "id": "vJ3FvD9rs0Qz"
   },
   "outputs": [],
   "source": [
    "a = np.zeros(3, dtype = int)\n",
    "print(a) #dataype will be int"
   ]
  },
  {
   "cell_type": "code",
   "execution_count": null,
   "metadata": {
    "id": "x8VWeUsOr0Ex"
   },
   "outputs": [],
   "source": [
    "#Initializing a numpy using None\n",
    "\n",
    "a = np.array([None]*5)\n",
    "print(a) #in this method, you can initialize a numpy array with any values"
   ]
  },
  {
   "cell_type": "code",
   "execution_count": null,
   "metadata": {
    "id": "qVrZVXFnkYwx"
   },
   "outputs": [],
   "source": [
    "a = np.array([1, 2.0, 3])\n",
    "print(a) #check the datatype of printed array"
   ]
  },
  {
   "cell_type": "code",
   "execution_count": null,
   "metadata": {
    "id": "2xEXSjKMmJ0x"
   },
   "outputs": [],
   "source": [
    "a = np.array([1, \"2\", 3])\n",
    "print(a) #check the datatype of printed array"
   ]
  },
  {
   "cell_type": "code",
   "execution_count": null,
   "metadata": {
    "id": "4Pc0P2RIsI4p"
   },
   "outputs": [],
   "source": [
    "#Accessing array through index\n",
    "a = np.array([1, 2, 3, 4, 5])\n",
    "print(a[2])\n",
    "\n",
    "a[2] = 6 #a[2] will be updated from 3 to 6\n",
    "print(a)"
   ]
  },
  {
   "cell_type": "code",
   "execution_count": null,
   "metadata": {
    "id": "pDSdC05jsa4V"
   },
   "outputs": [],
   "source": [
    "#Finding length of array\n",
    "print(len(a))\n",
    "print(a.shape)\n",
    "print(a.shape[0])"
   ]
  },
  {
   "cell_type": "code",
   "execution_count": null,
   "metadata": {
    "id": "DZYCvMWjsLuq"
   },
   "outputs": [],
   "source": [
    "#Iterating through array\n",
    "for i in a:\n",
    "  print(i) #regular for loop, checks membership"
   ]
  },
  {
   "cell_type": "code",
   "execution_count": null,
   "metadata": {
    "id": "uLIcENz_spI0"
   },
   "outputs": [],
   "source": [
    "for i in range(len(a)):\n",
    "  print(a[i]) #ranged for loop, iterates through the index"
   ]
  },
  {
   "cell_type": "code",
   "execution_count": null,
   "metadata": {
    "id": "kLzdGNNRtrI4"
   },
   "outputs": [],
   "source": [
    "#resizing an array\n",
    "a = np.array([1, 2, 3, 4, 5, 6])\n",
    "\n",
    "b = np.array([None]*8) #initializing a new array with length 8 and all None values\n",
    "for i in range(len(a)):\n",
    "  b[i] = a[i]\n",
    "print(b)"
   ]
  },
  {
   "cell_type": "code",
   "execution_count": null,
   "metadata": {
    "id": "ab-CwDjSuF3I"
   },
   "outputs": [],
   "source": [
    "#copying an array (pass by reference)\n",
    "\n",
    "arr1 = np.array([1, 2, 3, 4, 5, 6])\n",
    "arr2 = arr1\n",
    "print(arr2)"
   ]
  },
  {
   "cell_type": "code",
   "execution_count": null,
   "metadata": {
    "id": "U_CrVJncvVW7"
   },
   "outputs": [],
   "source": [
    "print(id(arr1)) #prints the memory location of arr1\n",
    "print(id(arr2)) #prints the memory location of arr2"
   ]
  },
  {
   "cell_type": "code",
   "execution_count": null,
   "metadata": {
    "id": "dpfLRbOevcN0"
   },
   "outputs": [],
   "source": [
    "arr2 = np.zeros(len(arr1))\n",
    "\n",
    "for i in range(arr1[i]):\n",
    "  arr2[i] = arr1[i]\n",
    "\n",
    "print(arr2)"
   ]
  },
  {
   "cell_type": "code",
   "execution_count": 8,
   "metadata": {
    "id": "GIoef7lmxQZ_"
   },
   "outputs": [
    {
     "name": "stdout",
     "output_type": "stream",
     "text": [
      "[1 2 3 4]\n",
      "for i =  1 array =  [2 2 3 4]\n",
      "for i =  2 array =  [2 3 3 4]\n",
      "for i =  3 array =  [2 3 4 4]\n",
      "After left shifting, array a will look like: [2 3 4 0]\n"
     ]
    }
   ],
   "source": [
    "#shifting array left\n",
    "import numpy as np\n",
    "def shiftLeft(a):\n",
    "  for i in range(1, len(a)):\n",
    "    a[i-1] = a[i]\n",
    "    print(\"for i = \", i, \"array = \", a)\n",
    "  a[len(a)-1] = 0\n",
    "  return a\n",
    "\n",
    "a = np.array([1, 2, 3, 4])\n",
    "print(a)\n",
    "\n",
    "print(f\"After left shifting, array a will look like: {shiftLeft(a)}\")"
   ]
  },
  {
   "cell_type": "code",
   "execution_count": 9,
   "metadata": {
    "colab": {
     "base_uri": "https://localhost:8080/"
    },
    "id": "_GAUlkOcx2jl",
    "outputId": "66e4a92c-0b59-4f28-dd5c-4cbca9dea967"
   },
   "outputs": [
    {
     "name": "stdout",
     "output_type": "stream",
     "text": [
      "[1 2 3 4]\n",
      "for i =  3 array =  [1 2 3 3]\n",
      "for i =  2 array =  [1 2 2 3]\n",
      "for i =  1 array =  [1 1 2 3]\n",
      "After right shifting, array a will look like: [0 1 2 3]\n"
     ]
    }
   ],
   "source": [
    "#shifting array right\n",
    "\n",
    "def shiftRight(a):\n",
    "  for i in range(len(a)-1,0,-1):\n",
    "    a[i]=a[i-1]\n",
    "    print(\"for i = \", i, \"array = \", a)\n",
    "  a[0]=0\n",
    "  return a\n",
    "\n",
    "a = np.array([1, 2, 3, 4])\n",
    "print(a)\n",
    "print(f\"After right shifting, array a will look like: {shiftRight(a)}\")"
   ]
  },
  {
   "cell_type": "code",
   "execution_count": 4,
   "metadata": {
    "colab": {
     "base_uri": "https://localhost:8080/"
    },
    "id": "yhWoYxTWys4i",
    "outputId": "548a6f34-4390-4315-fd7b-16b277d2daab"
   },
   "outputs": [
    {
     "name": "stdout",
     "output_type": "stream",
     "text": [
      "[1 2 3 4]\n",
      "After left rotating, array a will look like: [2 3 4 1]\n"
     ]
    }
   ],
   "source": [
    "#rotating array left\n",
    "\n",
    "def rotateLeft(a):\n",
    "  temp=a[0]\n",
    "  for i in range(1,len(a)):\n",
    "    a[i-1]=a[i]\n",
    "  a[len(a)-1]=temp\n",
    "  return a\n",
    "\n",
    "a = np.array([1, 2, 3, 4])\n",
    "print(a)\n",
    "print(f\"After left rotating, array a will look like: {rotateLeft(a)}\")"
   ]
  },
  {
   "cell_type": "code",
   "execution_count": 5,
   "metadata": {
    "colab": {
     "base_uri": "https://localhost:8080/"
    },
    "id": "c4NDf6DNz2J8",
    "outputId": "52989ecb-5faf-44f2-a987-1964966ac1ec"
   },
   "outputs": [
    {
     "name": "stdout",
     "output_type": "stream",
     "text": [
      "[1 2 3 4]\n",
      "After right rotating, array a will look like: [4 1 2 3]\n"
     ]
    }
   ],
   "source": [
    "#rotate array right\n",
    "\n",
    "def rotateRight(a):\n",
    "  temp=a[len(a)-1]\n",
    "  for i in range(len(a)-1,0,-1):\n",
    "    a[i]=a[i-1]\n",
    "  a[0]=temp\n",
    "  return a\n",
    "\n",
    "\n",
    "a = np.array([1, 2, 3, 4])\n",
    "print(a)\n",
    "print(f\"After right rotating, array a will look like: {rotateRight(a)}\")"
   ]
  },
  {
   "cell_type": "code",
   "execution_count": 6,
   "metadata": {
    "id": "D_QatSR_0Bqr"
   },
   "outputs": [
    {
     "name": "stdout",
     "output_type": "stream",
     "text": [
      "[1 2 3 4 5 9 0]\n"
     ]
    }
   ],
   "source": [
    "#insertion at end\n",
    "\n",
    "def insertAtEnd(arr, size, elem):\n",
    "  if size >= len(arr):\n",
    "    return \"Need to resize\"\n",
    "  arr[size] = elem\n",
    "  return arr\n",
    "\n",
    "a = np.array([1, 2, 3, 4, 5, 0, 0])\n",
    "print(insertAtEnd(a, 5, 9))"
   ]
  },
  {
   "cell_type": "code",
   "execution_count": 63,
   "metadata": {
    "id": "0pr0lgYzRSdA"
   },
   "outputs": [
    {
     "name": "stdout",
     "output_type": "stream",
     "text": [
      "[1 2 3 9 4 5 0]\n"
     ]
    }
   ],
   "source": [
    "#insertion at any other place\n",
    "import numpy as np\n",
    "def insertAtOtherPlace(arr, size, elem, index):\n",
    "  if index < 0 or index > size:\n",
    "    return \"Insertion not possible\"\n",
    "  if size >= len(arr):\n",
    "    return \"Need to resize\"\n",
    "  for i in range(size, index, -1):\n",
    "    arr[i] = arr[i-1]\n",
    "  arr[index] = elem\n",
    "  return arr\n",
    "a = np.array([1, 2, 3, 4, 5, 0, 0])\n",
    "print(insertAtOtherPlace(a, 5, 9, 3))"
   ]
  },
  {
   "cell_type": "code",
   "execution_count": null,
   "metadata": {
    "id": "a9lyg7b_SEGB"
   },
   "outputs": [
    {
     "name": "stdout",
     "output_type": "stream",
     "text": [
      "[1 2 3 4 0]\n"
     ]
    }
   ],
   "source": [
    "#deletion at end\n",
    "\n",
    "def deleteAtEnd(arr, size):\n",
    "  if size<=0:\n",
    "    return \"Deletion not possible\"\n",
    "  else:\n",
    "    arr[size-1]=0\n",
    "  return arr\n",
    "\n",
    "a = np.array([1, 2, 3, 4, 5])\n",
    "print(deleteAtEnd(a, 5))"
   ]
  },
  {
   "cell_type": "code",
   "execution_count": 62,
   "metadata": {
    "id": "Knb10QMfSVye"
   },
   "outputs": [
    {
     "name": "stdout",
     "output_type": "stream",
     "text": [
      "[1 2 4 5 0]\n"
     ]
    }
   ],
   "source": [
    "#delete at any place\n",
    "import numpy as np\n",
    "def deleteAtOtherPlace(arr, size, index):\n",
    "    if size<=0:\n",
    "        return \"Deletion not possible\"\n",
    "    if index < 0 or index >= size:\n",
    "        return \"Deletion not possible\"\n",
    "    for i in range(index, size-1):\n",
    "        arr[i] = arr[i+1]\n",
    "    arr[size-1] = 0\n",
    "    return arr\n",
    "\n",
    "a = np.array([1, 2, 3, 4, 5])\n",
    "print(deleteAtOtherPlace(a, 5, 2))"
   ]
  },
  {
   "cell_type": "code",
   "execution_count": null,
   "metadata": {
    "id": "g7HipSDQnoNO"
   },
   "outputs": [],
   "source": [
    "#linear searching\n",
    "\n",
    "def linearSearch(arr, size, key):\n",
    "  found = False\n",
    "  for i in range(size):\n",
    "    if arr[i] == key:\n",
    "      found = True\n",
    "      break\n",
    "  if found == True:\n",
    "    return 'Element Found!'\n",
    "  else:\n",
    "    return 'Not found :('\n",
    "\n",
    "a = np.array([5, 6, 13, 2, 9])\n",
    "print(linearSearch(a, 5, 13))\n",
    "print(linearSearch(a, 5, 23))"
   ]
  },
  {
   "cell_type": "code",
   "execution_count": null,
   "metadata": {
    "id": "wEGs38nBpIVp"
   },
   "outputs": [
    {
     "name": "stdout",
     "output_type": "stream",
     "text": [
      "mid =  5\n",
      "low =  6\n",
      "mid =  8\n",
      "high =  7\n",
      "mid =  6\n",
      "low =  7\n",
      "mid =  7\n",
      "Element Found!\n",
      "mid =  5\n",
      "high =  4\n",
      "mid =  2\n",
      "Element Found!\n"
     ]
    }
   ],
   "source": [
    "#binary searching\n",
    "\n",
    "def binarySearch(arr, key):\n",
    "  low = 0\n",
    "  high = len(arr)-1\n",
    "  while low <= high:\n",
    "    mid = (low + high)//2\n",
    "\n",
    "\n",
    "    print(\"mid = \", mid)\n",
    "\n",
    "\n",
    "    if arr[mid] == key:\n",
    "      return 'Element Found!'\n",
    "    \n",
    "    elif arr[mid] < key:\n",
    "\n",
    "      low = mid + 1\n",
    "\n",
    "\n",
    "      print(\"low = \", low)\n",
    "    else:\n",
    "\n",
    "      high = mid - 1\n",
    "\n",
    "\n",
    "      print(\"high = \", high)\n",
    "  return 'Not found :('\n",
    "\n",
    "a = np.array([1, 2, 3, 4, 5, 6, 7, 8, 9,10, 11])\n",
    "print(binarySearch(a, 8))\n",
    "print(binarySearch(a, 3))"
   ]
  },
  {
   "cell_type": "code",
   "execution_count": 105,
   "metadata": {
    "id": "4jK0TS60U0ya"
   },
   "outputs": [
    {
     "name": "stdout",
     "output_type": "stream",
     "text": [
      "start =  1\n",
      "end =  3\n",
      "start =  2\n",
      "end =  2\n",
      "[ 9  2 13  6  5]\n"
     ]
    }
   ],
   "source": [
    "#array reversal\n",
    "\n",
    "def reverseArrayInPlace(arr):\n",
    "  start = 0\n",
    "  \n",
    "  end = len(arr)-1\n",
    "  \n",
    "  while start < end:\n",
    "    arr[start], arr[end] = arr[end], arr[start]\n",
    "    \n",
    "    start += 1\n",
    "    print(\"start = \", start)\n",
    "    end -= 1\n",
    "    print(\"end = \", end)\n",
    "  return arr\n",
    "\n",
    "\n",
    "a = np.array([5, 6, 13, 2, 9])\n",
    "print(reverseArrayInPlace(a))"
   ]
  },
  {
   "cell_type": "code",
   "execution_count": 3,
   "metadata": {},
   "outputs": [
    {
     "name": "stdout",
     "output_type": "stream",
     "text": [
      "[10  0 20  0 30  0 40  0 50  0]\n"
     ]
    }
   ],
   "source": [
    "import numpy as np\n",
    "arr=np.array([10,20,30,40,50], dtype=int)\n",
    "new_arr=np.zeros(10,dtype=int)\n",
    "j=0\n",
    "for i in range(len(arr)):\n",
    "    \n",
    "    new_arr[j]=arr[i]\n",
    "    j+=2\n",
    "\n",
    "\n",
    "print(new_arr)"
   ]
  },
  {
   "cell_type": "code",
   "execution_count": 3,
   "metadata": {},
   "outputs": [
    {
     "name": "stdout",
     "output_type": "stream",
     "text": [
      "[1 2 3 4 5 6 7 8]\n"
     ]
    }
   ],
   "source": [
    "#Union OF two array\n",
    "import numpy as np\n",
    "def union_two(a,b):\n",
    "    result=np.zeros(len(a)+len(b),dtype=int)\n",
    "    res_idx=0\n",
    "\n",
    "\n",
    "    for i in range(len(a)):\n",
    "        is_unique=True\n",
    "        for j in range(res_idx):\n",
    "            if result[j]==a[i]:\n",
    "                is_unique=False\n",
    "                break\n",
    "        if is_unique:\n",
    "            result[res_idx]=a[i]\n",
    "            res_idx+=1\n",
    "\n",
    "    for i in range(len(b)):\n",
    "        is_unique=True\n",
    "        for j in range(res_idx):\n",
    "            if result[j]==b[i]:\n",
    "                is_unique=False\n",
    "                break\n",
    "        if is_unique:\n",
    "            result[res_idx]=b[i]\n",
    "            res_idx+=1\n",
    "\n",
    "    return result[:res_idx]\n",
    "\n",
    "a=np.array([1,2,3,4,5])\n",
    "b=np.array([4,5,6,7,8])\n",
    "\n",
    "print(union_two(a,b))\n"
   ]
  }
 ],
 "metadata": {
  "colab": {
   "provenance": []
  },
  "kernelspec": {
   "display_name": "Python 3",
   "name": "python3"
  },
  "language_info": {
   "codemirror_mode": {
    "name": "ipython",
    "version": 3
   },
   "file_extension": ".py",
   "mimetype": "text/x-python",
   "name": "python",
   "nbconvert_exporter": "python",
   "pygments_lexer": "ipython3",
   "version": "3.11.9"
  }
 },
 "nbformat": 4,
 "nbformat_minor": 0
}
