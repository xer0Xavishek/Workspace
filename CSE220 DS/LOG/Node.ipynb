{
 "cells": [
  {
   "cell_type": "code",
   "execution_count": 1,
   "metadata": {
    "id": "ZBBPkfBY5Xrb"
   },
   "outputs": [],
   "source": [
    "import numpy as np"
   ]
  },
  {
   "cell_type": "code",
   "execution_count": 4,
   "metadata": {
    "id": "_EMoiS3Y4edJ"
   },
   "outputs": [],
   "source": [
    "class Node:\n",
    "\n",
    "  def __init__(self, elem, next = None):\n",
    "    self.elem = elem\n",
    "    self.next = next"
   ]
  },
  {
   "cell_type": "code",
   "execution_count": 5,
   "metadata": {
    "id": "JSPMVq0UynEn"
   },
   "outputs": [],
   "source": [
    "#Creating a linked list\n",
    "\n",
    "def createList(arr):\n",
    "  head = Node(arr[0], None)\n",
    "  tail = head\n",
    "  for i in range(1, len(arr)):\n",
    "    newNode = Node(arr[i], None)\n",
    "    tail.next = newNode\n",
    "    tail = newNode\n",
    "  return head"
   ]
  },
  {
   "cell_type": "code",
   "execution_count": 6,
   "metadata": {
    "id": "PC21PfSNyqeI"
   },
   "outputs": [],
   "source": [
    "#Printing linked list\n",
    "\n",
    "def printList(head):\n",
    "  temp = head\n",
    "  while temp != None:\n",
    "    if temp.next != None:\n",
    "      print(temp.elem, end = '-->')\n",
    "    else:\n",
    "      print(temp.elem)\n",
    "    temp = temp.next\n",
    "  print()"
   ]
  },
  {
   "cell_type": "code",
   "execution_count": 7,
   "metadata": {
    "colab": {
     "base_uri": "https://localhost:8080/"
    },
    "id": "P-OxUo4o5TMg",
    "outputId": "a8d313ab-01d2-4bc4-906d-2d9fcea117eb"
   },
   "outputs": [
    {
     "name": "stdout",
     "output_type": "stream",
     "text": [
      "1-->2-->3-->4-->5\n",
      "\n"
     ]
    }
   ],
   "source": [
    "a = np.array([1, 2, 3, 4, 5])\n",
    "returned_list = createList(a)\n",
    "printList(returned_list)"
   ]
  },
  {
   "cell_type": "code",
   "execution_count": null,
   "metadata": {
    "id": "y1gnGfHSyzaB"
   },
   "outputs": [],
   "source": [
    "#Counting elements of a linked list\n",
    "\n",
    "def countList(head):\n",
    "  \n",
    "  temp=head\n",
    "  count=0\n",
    "\n",
    "  while temp!=None: # address of node while address is not none means it is not the last element then continue\n",
    "    count+=1\n",
    "    temp=temp.next\n",
    "\n",
    "  return count\n"
   ]
  },
  {
   "cell_type": "code",
   "execution_count": null,
   "metadata": {
    "colab": {
     "base_uri": "https://localhost:8080/"
    },
    "id": "pTQCAHtPzAFH",
    "outputId": "206924f6-fe8e-41a7-9cb5-af42899c6359"
   },
   "outputs": [
    {
     "name": "stdout",
     "output_type": "stream",
     "text": [
      "10\n"
     ]
    }
   ],
   "source": [
    "a = np.array([1, 2, 3, 4, 5, 6, 7, 8, 9, 10])\n",
    "returned_list = createList(a)\n",
    "print(countList(returned_list))"
   ]
  },
  {
   "cell_type": "code",
   "execution_count": 8,
   "metadata": {
    "id": "XvRCQU5azGsX"
   },
   "outputs": [],
   "source": [
    "#Retrieving element from an index\n",
    "\n",
    "def elem_at(head, idx):\n",
    "  temp = head\n",
    "  count = 0\n",
    "  while temp != None:\n",
    "    if count == idx:\n",
    "      return temp.elem\n",
    "    count += 1\n",
    "    temp = temp.next"
   ]
  },
  {
   "cell_type": "code",
   "execution_count": 9,
   "metadata": {
    "colab": {
     "base_uri": "https://localhost:8080/"
    },
    "id": "RMK_6acczitE",
    "outputId": "a9b845ed-5736-4867-d200-887c438bc4b9"
   },
   "outputs": [
    {
     "name": "stdout",
     "output_type": "stream",
     "text": [
      "7\n"
     ]
    }
   ],
   "source": [
    "a = np.array([1, 2, 3, 4, 5, 6, 7, 8, 9, 10])\n",
    "returned_list = createList(a)\n",
    "print(elem_at(returned_list, 6))"
   ]
  },
  {
   "cell_type": "code",
   "execution_count": 115,
   "metadata": {
    "id": "b5QwbwFzzre2"
   },
   "outputs": [
    {
     "name": "stdout",
     "output_type": "stream",
     "text": [
      "<__main__.Node object at 0x000001F4282F2A50>\n",
      "<__main__.Node object at 0x000001F4282F2A50>\n",
      "None\n"
     ]
    }
   ],
   "source": [
    "#Retrieving a node from an index\n",
    "\n",
    "def nodeAt(head, idx):\n",
    "  \n",
    "  temp=head\n",
    "  count=0\n",
    "  while temp!=None:\n",
    "    if count==idx:\n",
    "      return head\n",
    "    count+=1\n",
    "    temp=temp.next\n",
    "  return None\n",
    "\n",
    "\n",
    "a = np.array([1, 2, 3, 4, 5, 6, 7, 8, 9, 10])\n",
    "returned_list = createList(a)\n",
    "print(nodeAt(returned_list, 0))\n",
    "print(nodeAt(returned_list, 9))\n",
    "print(nodeAt(returned_list, 10))"
   ]
  },
  {
   "cell_type": "code",
   "execution_count": 130,
   "metadata": {
    "id": "jajSh193z6LY"
   },
   "outputs": [
    {
     "name": "stdout",
     "output_type": "stream",
     "text": [
      "1-->2-->3-->4-->9-->6-->7-->8-->9-->10\n",
      "\n"
     ]
    }
   ],
   "source": [
    "#Updating a value of specific index\n",
    "\n",
    "def updateValue(head, idx, new_elem):\n",
    "  temp=head\n",
    "  count=0\n",
    "  while temp!=None:\n",
    "    if count==idx:\n",
    "      temp.elem=new_elem\n",
    "      return\n",
    "      \n",
    "    count+=1\n",
    "    temp=temp.next\n",
    "\n",
    "  \n",
    "    \n",
    "\n",
    "\n",
    "\n",
    "\n",
    "a = np.array([1, 2, 3, 4, 5, 6, 7, 8, 9, 10])\n",
    "returned_list = createList(a)\n",
    "updateValue(returned_list, 4, 9)\n",
    "printList(returned_list)"
   ]
  },
  {
   "cell_type": "code",
   "execution_count": null,
   "metadata": {
    "id": "2ss4wB9K2EfA"
   },
   "outputs": [],
   "source": [
    "#Searching element in the list\n",
    "\n",
    "def indexOf(head, elem):\n",
    "  \n",
    "\n",
    "a = np.array([1, 2, 3, 4, 5, 6, 7, 8, 9, 10])\n",
    "returned_list = createList(a)\n",
    "print(indexOf(returned_list, 6))"
   ]
  },
  {
   "cell_type": "code",
   "execution_count": 10,
   "metadata": {
    "id": "Q9X9L6-j25xz"
   },
   "outputs": [],
   "source": [
    "#Inserting an element into a list\n",
    "\n",
    "def insert(head, elem, idx):\n",
    "  length = countList(head)\n",
    "  if idx == 0:\n",
    "    newNode = Node(elem, head)\n",
    "    head = newNode\n",
    "  elif idx == length:\n",
    "    newNode = Node(elem, None)\n",
    "    n1 = nodeAt(head, length - 1)\n",
    "    n1.next = newNode\n",
    "\n",
    "    \n",
    "  elif idx > 0 and idx < length:\n",
    "    newNode = Node(elem, None)\n",
    "    n1 = nodeAt(head, idx - 1)\n",
    "    n2 = nodeAt(head, idx)\n",
    "    newNode.next = n2\n",
    "    n1.next = newNode\n",
    "  else:\n",
    "    print(\"Index is invalid\")\n",
    "  return head"
   ]
  },
  {
   "cell_type": "code",
   "execution_count": 11,
   "metadata": {
    "colab": {
     "base_uri": "https://localhost:8080/"
    },
    "id": "IyZzrAQT6Q7m",
    "outputId": "6593dee9-bb6a-4290-cea1-825b95c2f5cd"
   },
   "outputs": [
    {
     "name": "stdout",
     "output_type": "stream",
     "text": [
      "1-->2-->3-->4-->5-->6-->7-->8-->9-->10\n",
      "\n"
     ]
    },
    {
     "ename": "NameError",
     "evalue": "name 'countList' is not defined",
     "output_type": "error",
     "traceback": [
      "\u001b[1;31m---------------------------------------------------------------------------\u001b[0m",
      "\u001b[1;31mNameError\u001b[0m                                 Traceback (most recent call last)",
      "Cell \u001b[1;32mIn[11], line 4\u001b[0m\n\u001b[0;32m      2\u001b[0m returned_list \u001b[38;5;241m=\u001b[39m createList(a)\n\u001b[0;32m      3\u001b[0m printList(returned_list)\n\u001b[1;32m----> 4\u001b[0m newHead \u001b[38;5;241m=\u001b[39m \u001b[43minsert\u001b[49m\u001b[43m(\u001b[49m\u001b[43mreturned_list\u001b[49m\u001b[43m,\u001b[49m\u001b[43m \u001b[49m\u001b[38;5;241;43m99\u001b[39;49m\u001b[43m,\u001b[49m\u001b[43m \u001b[49m\u001b[38;5;241;43m0\u001b[39;49m\u001b[43m)\u001b[49m \u001b[38;5;66;03m#Inserting at start\u001b[39;00m\n\u001b[0;32m      5\u001b[0m printList(newHead)\n\u001b[0;32m      7\u001b[0m a \u001b[38;5;241m=\u001b[39m np\u001b[38;5;241m.\u001b[39marray([\u001b[38;5;241m1\u001b[39m, \u001b[38;5;241m2\u001b[39m, \u001b[38;5;241m3\u001b[39m, \u001b[38;5;241m4\u001b[39m, \u001b[38;5;241m5\u001b[39m, \u001b[38;5;241m6\u001b[39m, \u001b[38;5;241m7\u001b[39m, \u001b[38;5;241m8\u001b[39m, \u001b[38;5;241m9\u001b[39m, \u001b[38;5;241m10\u001b[39m])\n",
      "Cell \u001b[1;32mIn[10], line 4\u001b[0m, in \u001b[0;36minsert\u001b[1;34m(head, elem, idx)\u001b[0m\n\u001b[0;32m      3\u001b[0m \u001b[38;5;28;01mdef\u001b[39;00m \u001b[38;5;21minsert\u001b[39m(head, elem, idx):\n\u001b[1;32m----> 4\u001b[0m   length \u001b[38;5;241m=\u001b[39m \u001b[43mcountList\u001b[49m(head)\n\u001b[0;32m      5\u001b[0m   \u001b[38;5;28;01mif\u001b[39;00m idx \u001b[38;5;241m==\u001b[39m \u001b[38;5;241m0\u001b[39m:\n\u001b[0;32m      6\u001b[0m     newNode \u001b[38;5;241m=\u001b[39m Node(elem, head)\n",
      "\u001b[1;31mNameError\u001b[0m: name 'countList' is not defined"
     ]
    }
   ],
   "source": [
    "a = np.array([1, 2, 3, 4, 5, 6, 7, 8, 9, 10])\n",
    "returned_list = createList(a)\n",
    "printList(returned_list)\n",
    "newHead = insert(returned_list, 99, 0) #Inserting at start\n",
    "printList(newHead)\n",
    "\n",
    "a = np.array([1, 2, 3, 4, 5, 6, 7, 8, 9, 10])\n",
    "returned_list = createList(a)\n",
    "printList(returned_list)\n",
    "newHead = insert(returned_list, 99, 5) #Inserting at middle\n",
    "printList(newHead)\n",
    "\n",
    "a = np.array([1, 2, 3, 4, 5, 6, 7, 8, 9, 10])\n",
    "returned_list = createList(a)\n",
    "printList(returned_list)\n",
    "newHead = insert(returned_list, 99, 10) #Inserting at end\n",
    "printList(newHead)"
   ]
  },
  {
   "cell_type": "code",
   "execution_count": null,
   "metadata": {
    "id": "MtP4RpBe7q4Y"
   },
   "outputs": [],
   "source": [
    "#Deleting from the list\n",
    "\n",
    "def remove(head, idx):\n",
    "  #Complete it yourself\n",
    "\n",
    "a = np.array([1, 2, 3, 4, 5, 6, 7, 8, 9, 10])\n",
    "returned_list = createList(a)\n",
    "printList(returned_list)\n",
    "newHead = remove(returned_list, 0) #Deleting at start\n",
    "printList(newHead)\n",
    "\n",
    "a = np.array([1, 2, 3, 4, 5, 6, 7, 8, 9, 10])\n",
    "returned_list = createList(a)\n",
    "printList(returned_list)\n",
    "newHead = remove(returned_list, 4) #Deleting at middle\n",
    "printList(newHead)"
   ]
  },
  {
   "cell_type": "code",
   "execution_count": null,
   "metadata": {
    "colab": {
     "base_uri": "https://localhost:8080/"
    },
    "id": "z0sH6Otk8_yR",
    "outputId": "1ce465c6-9d8c-4884-ed09-bf1371650bcf"
   },
   "outputs": [
    {
     "name": "stdout",
     "output_type": "stream",
     "text": [
      "1-->2-->3-->4-->5-->6-->7-->8-->9-->10\n",
      "\n",
      "2-->3-->4-->5-->6-->7-->8-->9-->10-->1\n",
      "\n"
     ]
    }
   ],
   "source": [
    "#Rotating a list left\n",
    "\n",
    "def leftRotate(head):\n",
    "  newHead = head.next\n",
    "  temp = newHead\n",
    "  while temp.next != None:\n",
    "    temp = temp.next\n",
    "  temp.next = head\n",
    "  head.next = None\n",
    "  head = newHead\n",
    "  return head\n",
    "\n",
    "a = np.array([1, 2, 3, 4, 5, 6, 7, 8, 9, 10])\n",
    "returned_list = createList(a)\n",
    "printList(returned_list)\n",
    "newHead = leftRotate(returned_list) #Deleting at start\n",
    "printList(newHead)"
   ]
  },
  {
   "cell_type": "code",
   "execution_count": null,
   "metadata": {
    "id": "AKuXGZTA91Q-"
   },
   "outputs": [],
   "source": [
    "#Rotating a list right\n",
    "\n",
    "def rightRotate(head):\n",
    "  #Complete it yourself\n",
    "\n",
    "a = np.array([1, 2, 3, 4, 5, 6, 7, 8, 9, 10])\n",
    "returned_list = createList(a)\n",
    "newHead = rightRotate(returned_list)\n",
    "printList(newHead)"
   ]
  }
 ],
 "metadata": {
  "colab": {
   "provenance": []
  },
  "kernelspec": {
   "display_name": "Python 3",
   "name": "python3"
  },
  "language_info": {
   "codemirror_mode": {
    "name": "ipython",
    "version": 3
   },
   "file_extension": ".py",
   "mimetype": "text/x-python",
   "name": "python",
   "nbconvert_exporter": "python",
   "pygments_lexer": "ipython3",
   "version": "3.11.9"
  }
 },
 "nbformat": 4,
 "nbformat_minor": 0
}
