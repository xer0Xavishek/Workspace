{
  "nbformat": 4,
  "nbformat_minor": 0,
  "metadata": {
    "colab": {
      "provenance": []
    },
    "kernelspec": {
      "name": "python3",
      "display_name": "Python 3"
    },
    "language_info": {
      "name": "python"
    }
  },
  "cells": [
    {
      "cell_type": "code",
      "execution_count": null,
      "metadata": {
        "id": "GiB30OMNJD9G"
      },
      "outputs": [],
      "source": [
        "import numpy as np"
      ]
    },
    {
      "cell_type": "code",
      "source": [
        "class DoublyNode:\n",
        "\n",
        "  def __init__(self, elem, next, prev):\n",
        "    self.elem = elem\n",
        "    self.next = next\n",
        "    self.prev = prev"
      ],
      "metadata": {
        "id": "aE0aoytzKSHW"
      },
      "execution_count": null,
      "outputs": []
    },
    {
      "cell_type": "markdown",
      "source": [
        "# **Creating a DHDCL from an array**"
      ],
      "metadata": {
        "id": "8Fvcsp-DLNgT"
      }
    },
    {
      "cell_type": "code",
      "source": [
        "def createList(arr):\n",
        "  dh = DoublyNode(None, None, None) #Creating the dummy headed node\n",
        "  dh.next = dh\n",
        "  dh.prev = dh\n",
        "  tail = dh\n",
        "\n",
        "  for i in range(len(arr)):\n",
        "    newNode = DoublyNode(arr[i], dh, tail)\n",
        "    tail.next = newNode\n",
        "    tail = tail.next\n",
        "    dh.prev = tail\n",
        "\n",
        "  return dh"
      ],
      "metadata": {
        "id": "1QSmW7CwLJTw"
      },
      "execution_count": null,
      "outputs": []
    },
    {
      "cell_type": "code",
      "source": [
        "def printList(dh):\n",
        "  #Complete by yourself"
      ],
      "metadata": {
        "id": "XU8yqFz-MOL3"
      },
      "execution_count": null,
      "outputs": []
    },
    {
      "cell_type": "code",
      "source": [
        "a = np.array([1, 2, 3, 4, 5])\n",
        "dh = createList(a)\n",
        "printList(dh)"
      ],
      "metadata": {
        "id": "qlJ398kvMIVU"
      },
      "execution_count": null,
      "outputs": []
    },
    {
      "cell_type": "markdown",
      "source": [
        "# **Counting the elements of DHDCL**"
      ],
      "metadata": {
        "id": "t_imPpvAOFNY"
      }
    },
    {
      "cell_type": "code",
      "source": [
        "def count(dh):\n",
        "  #Complete by yourself"
      ],
      "metadata": {
        "id": "pF0YR-XcOE8U"
      },
      "execution_count": null,
      "outputs": []
    },
    {
      "cell_type": "code",
      "source": [
        "a = np.array([1, 2, 3, 4, 5])\n",
        "dh = createList(a)\n",
        "print(count(dh))"
      ],
      "metadata": {
        "id": "OgYWTdTtOR-e"
      },
      "execution_count": null,
      "outputs": []
    },
    {
      "cell_type": "markdown",
      "source": [
        "# **nodeAt function**"
      ],
      "metadata": {
        "id": "gXQuOAvUMuS0"
      }
    },
    {
      "cell_type": "code",
      "source": [
        "def nodeAt(dh, idx):\n",
        "  #Complete by yourself"
      ],
      "metadata": {
        "id": "gwLP1yoYMtbM"
      },
      "execution_count": null,
      "outputs": []
    },
    {
      "cell_type": "code",
      "source": [
        "a = np.array([1, 2, 3, 4, 5])\n",
        "dh = createList(a)\n",
        "nodeAt(dh, 3)"
      ],
      "metadata": {
        "id": "WJLqCEGuNUou"
      },
      "execution_count": null,
      "outputs": []
    },
    {
      "cell_type": "markdown",
      "source": [
        "# **Insertion**"
      ],
      "metadata": {
        "id": "oTDfDt_QNgoN"
      }
    },
    {
      "cell_type": "code",
      "source": [
        "def insert(dh, elem, idx):\n",
        "  #Complete by yourself"
      ],
      "metadata": {
        "id": "4Eo5CJpCNioi"
      },
      "execution_count": null,
      "outputs": []
    },
    {
      "cell_type": "code",
      "source": [
        "a = np.array([1, 2, 3, 4, 5])\n",
        "dh = createList(a)\n",
        "printList(insert(dh, 99, 2))"
      ],
      "metadata": {
        "id": "OP5SXlKiQaO6"
      },
      "execution_count": null,
      "outputs": []
    },
    {
      "cell_type": "markdown",
      "source": [
        "# **Deletion**"
      ],
      "metadata": {
        "id": "PJqqm_gwQjeS"
      }
    },
    {
      "cell_type": "code",
      "source": [
        "def remove(dh, idx):\n",
        "  #Complete by yourself"
      ],
      "metadata": {
        "id": "RILL3OUhQk9R"
      },
      "execution_count": null,
      "outputs": []
    },
    {
      "cell_type": "code",
      "source": [
        "a = np.array([1, 2, 3, 4, 5])\n",
        "dh = createList(a)\n",
        "printList(remove(dh, 2))"
      ],
      "metadata": {
        "id": "3zveb77XR_zN"
      },
      "execution_count": null,
      "outputs": []
    }
  ]
}