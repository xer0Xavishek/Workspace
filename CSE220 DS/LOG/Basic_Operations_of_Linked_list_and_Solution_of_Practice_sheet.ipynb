{
 "cells": [
  {
   "cell_type": "markdown",
   "metadata": {
    "id": "y71l__v1nfRb"
   },
   "source": [
    "##Linked List"
   ]
  },
  {
   "cell_type": "code",
   "execution_count": null,
   "metadata": {
    "id": "5cQJwzsZmz1j"
   },
   "outputs": [],
   "source": [
    "class Node:\n",
    "  def __init__(self,elem,next):\n",
    "    self.elem=elem\n",
    "    self.next=next\n",
    "def createList(arr):\n",
    "  head=Node(arr[0],None)\n",
    "  tail=head\n",
    "  for i in range(1,len(arr)):\n",
    "    newNode=Node(arr[i],None)\n",
    "    tail.next=newNode\n",
    "    tail=newNode\n",
    "  return head\n",
    "def count(head):\n",
    "  count=0\n",
    "  temp = head\n",
    "  while temp != None:\n",
    "    count+=1\n",
    "    temp=temp.next\n",
    "  return count\n",
    "\n",
    "def NodeAt(head,idx):\n",
    "  count=0\n",
    "  temp=head\n",
    "  while temp != None:\n",
    "    if idx == count:\n",
    "      return temp\n",
    "    temp=temp.next\n",
    "    count+=1\n",
    "def rotate_left(head):\n",
    "  new_head=head.next\n",
    "  temp=new_head\n",
    "  while temp.next != None:\n",
    "    temp=temp.next\n",
    "  temp.next=head\n",
    "  temp.next.next=None\n",
    "  head=new_head\n",
    "  return head\n",
    "def rotate_right(head):\n",
    "  last_node=head.next\n",
    "  second_last_node=head\n",
    "  while last_node.next != None:\n",
    "    last_node= last_node.next\n",
    "    second_last_node= second_last_node.next\n",
    "  last_node.next=head\n",
    "  second_last_node.next= None\n",
    "  head=last_node\n",
    "  return head\n",
    "def insert(head,elem,idx):\n",
    "  total= count(head)\n",
    "  newNode=Node(elem,None)\n",
    "  if idx ==0:\n",
    "    newNode.next=head\n",
    "    head=newNode\n",
    "  elif idx >= 1 and idx < total:\n",
    "    prev_node=NodeAt(head,idx-1)\n",
    "    next_node= NodeAt(head,idx)\n",
    "    prev_node.next=newNode\n",
    "    newNode.next= next_node\n",
    "  elif idx == total:\n",
    "    last_node= NodeAt(head,total-1)\n",
    "    last_node.next=newNode\n",
    "  else:\n",
    "    print('Invalid Index')\n",
    "  return head\n",
    "\n",
    "\n",
    "def printLinkedList(head):\n",
    "  temp = head\n",
    "  while temp != None:\n",
    "    if temp.next != None:\n",
    "      print(temp.elem, end = '-->')\n",
    "    else:\n",
    "      print(temp.elem)\n",
    "    temp = temp.next\n",
    "  print()"
   ]
  },
  {
   "cell_type": "code",
   "execution_count": 2,
   "metadata": {},
   "outputs": [
    {
     "name": "stdout",
     "output_type": "stream",
     "text": [
      "Original List:\n",
      "1 --> 2 --> 3 --> 4 --> 5 --> 6 --> 7 --> 8 --> 9 --> 10 --> None\n",
      "List after right rotation:\n",
      "10 --> 1 --> 2 --> 3 --> 4 --> 5 --> 6 --> 7 --> 8 --> 9 --> None\n"
     ]
    }
   ],
   "source": [
    "class Node:\n",
    "    def __init__(self, element, next_node=None):\n",
    "        self.element = element\n",
    "        self.next = next_node\n",
    "\n",
    "def createList(arr):\n",
    "    if len(arr) == 0:\n",
    "        return None\n",
    "    head = Node(arr[0])\n",
    "    current = head\n",
    "    for i in range(1, len(arr)):\n",
    "        current.next = Node(arr[i])\n",
    "        current = current.next\n",
    "    return head\n",
    "\n",
    "def printList(head):\n",
    "    current = head\n",
    "    while current is not None:\n",
    "        print(current.element, end=\" --> \")\n",
    "        current = current.next\n",
    "    print(\"None\")\n",
    "\n",
    "def rotate_right(head):\n",
    "    if head is None or head.next is None:\n",
    "        return head\n",
    "\n",
    "    last_node = head\n",
    "    second_last_node = None\n",
    "\n",
    "    # Traverse to the end of the list\n",
    "    while last_node.next is not None:\n",
    "        second_last_node = last_node\n",
    "        last_node = last_node.next\n",
    "\n",
    "    # Rotate the list\n",
    "    last_node.next = head\n",
    "    second_last_node.next = None\n",
    "    head = last_node\n",
    "\n",
    "    return head\n",
    "\n",
    "# Example usage\n",
    "import numpy as np\n",
    "\n",
    "a = np.array([1, 2, 3, 4, 5, 6, 7, 8, 9, 10])\n",
    "returned_list = createList(a)\n",
    "print(\"Original List:\")\n",
    "printList(returned_list)\n",
    "\n",
    "newHead = rotate_right(returned_list)\n",
    "print(\"List after right rotation:\")\n",
    "printList(newHead)"
   ]
  },
  {
   "cell_type": "code",
   "execution_count": 1,
   "metadata": {},
   "outputs": [
    {
     "name": "stdout",
     "output_type": "stream",
     "text": [
      "Original List:\n",
      "1 --> 2 --> 3 --> 4 --> 5 --> 6 --> 7 --> 8 --> 9 --> 10 --> None\n",
      "List after left rotation:\n",
      "2 --> 3 --> 4 --> 5 --> 6 --> 7 --> 8 --> 9 --> 10 --> 1 --> None\n"
     ]
    }
   ],
   "source": [
    "class Node:\n",
    "    def __init__(self, element, next_node=None):\n",
    "        self.element = element\n",
    "        self.next = next_node\n",
    "\n",
    "def createList(arr):\n",
    "    if len(arr) == 0:\n",
    "        return None\n",
    "    head = Node(arr[0])\n",
    "    current = head\n",
    "    for i in range(1, len(arr)):\n",
    "        current.next = Node(arr[i])\n",
    "        current = current.next\n",
    "    return head\n",
    "\n",
    "def printList(head):\n",
    "    current = head\n",
    "    while current is not None:\n",
    "        print(current.element, end=\" --> \")\n",
    "        current = current.next\n",
    "    print(\"None\")\n",
    "\n",
    "def rotate_left(head):\n",
    "    if head is None or head.next is None:\n",
    "        return head\n",
    "\n",
    "    new_head = head.next\n",
    "    temp = new_head\n",
    "    while temp.next is not None:\n",
    "        temp = temp.next\n",
    "    temp.next = head\n",
    "    head.next = None\n",
    "    head = new_head\n",
    "    return head\n",
    "\n",
    "# Example usage\n",
    "import numpy as np\n",
    "\n",
    "a = np.array([1, 2, 3, 4, 5, 6, 7, 8, 9, 10])\n",
    "returned_list = createList(a)\n",
    "print(\"Original List:\")\n",
    "printList(returned_list)\n",
    "\n",
    "newHead = rotate_left(returned_list)\n",
    "print(\"List after left rotation:\")\n",
    "printList(newHead)"
   ]
  },
  {
   "cell_type": "code",
   "execution_count": null,
   "metadata": {
    "id": "4KphrUFNnDFP"
   },
   "outputs": [],
   "source": [
    "#question 1\n",
    "def last_to_first(head):\n",
    "  last_node= head.next\n",
    "  second_last_node=head\n",
    "  while last_node.next != None:\n",
    "    last_node= last_node.next\n",
    "    second_last_node= second_last_node.next\n",
    "  last_node.next=head\n",
    "  second_last_node.next= None\n",
    "  head= last_node\n",
    "  return head\n",
    "a=createList([1,2,3,4,5])\n",
    "b=last_to_first(a)\n",
    "printLinkedList(b)\n",
    "\n",
    "a=createList([7,2,3,4,5,9])\n",
    "b=last_to_first(a)\n",
    "printLinkedList(b)"
   ]
  },
  {
   "cell_type": "code",
   "execution_count": null,
   "metadata": {
    "id": "FiCvN1pnnSOq"
   },
   "outputs": [],
   "source": [
    "#Question 2\n",
    "def common(head1,head2):\n",
    "  temp1=head1\n",
    "  head=None\n",
    "  while temp1 != None:\n",
    "    temp2=head2\n",
    "    while temp2 != None:\n",
    "      if temp2.elem == temp1.elem:\n",
    "        head=insert(head,temp1.elem,count(head))\n",
    "      temp2=temp2.next\n",
    "    temp1=temp1.next\n",
    "  return head\n",
    "a=common(createList([1,2,3,4,5]),createList([2,3,4]))\n",
    "printLinkedList(a)\n",
    "\n",
    "a=common(createList([1,5,3,4,6]),createList([4,5,6,7,8]))\n",
    "printLinkedList(a)\n"
   ]
  },
  {
   "cell_type": "code",
   "execution_count": null,
   "metadata": {
    "id": "HR8OogMNnTWe"
   },
   "outputs": [],
   "source": [
    "##Question 3\n",
    "def reverse_operation(head):\n",
    "  temp=head\n",
    "  while temp.next !=None:\n",
    "    if temp.elem%2==0 and temp.next.elem %2 ==0:\n",
    "        preserve = temp.next\n",
    "        temp.next = preserve.next\n",
    "        preserve.next = head\n",
    "        head = preserve\n",
    "    else:\n",
    "         temp = temp.next\n",
    "  return head\n",
    "a=reverse_operation(createList([2,18,24,3,5,7,9,6,12]))\n",
    "printLinkedList(a)\n",
    "#failed"
   ]
  },
  {
   "cell_type": "code",
   "execution_count": null,
   "metadata": {
    "id": "AqRrLXStnUgm"
   },
   "outputs": [],
   "source": [
    "##Question 4\n",
    "def even_odd(head):\n",
    "  even=None\n",
    "  odd=None\n",
    "  temp=head\n",
    "  while temp != None:\n",
    "    if temp.elem %2 ==0:\n",
    "      even=insert(even,temp.elem,count(even))\n",
    "    else:\n",
    "      odd=insert(odd,temp.elem,count(odd))\n",
    "    temp=temp.next\n",
    "  last_node_of_even=NodeAt(even,count(even)-1)\n",
    "  last_node_of_even.next=odd\n",
    "  return even\n",
    "\n",
    "a=even_odd(createList([17,15,8,12,10,5,4,1,7,6]))\n",
    "b=even_odd(createList([8,12,10,5,4,1,6]))\n",
    "printLinkedList(a)\n",
    "printLinkedList(b)"
   ]
  },
  {
   "cell_type": "code",
   "execution_count": null,
   "metadata": {
    "id": "2dgV9QkknVnU"
   },
   "outputs": [],
   "source": [
    "##Question 5\n",
    "def nth_node(head,idx):\n",
    "  idx=count(head)-idx\n",
    "  node=NodeAt(head,idx)\n",
    "  return node.elem\n",
    "print(nth_node(createList([8,12,10,5,4,1,6]),3))"
   ]
  },
  {
   "cell_type": "code",
   "execution_count": null,
   "metadata": {
    "id": "hu4T208-nWyE"
   },
   "outputs": [],
   "source": [
    "#Question 6\n",
    "def middle_element(head):\n",
    "  fast=head\n",
    "  slow=head\n",
    "  if count(head)%2==0:\n",
    "    while fast != None:\n",
    "      fast=fast.next.next\n",
    "      slow=slow.next\n",
    "  else:\n",
    "    while fast.next != None:\n",
    "      fast=fast.next.next\n",
    "      slow=slow.next\n",
    "  return slow.elem\n",
    "a=middle_element(createList([8,12,10,5,4,1,6,8]))\n",
    "print(a)\n",
    "b=middle_element(createList([8,12,10,5,1,6,8]))\n",
    "print(b)"
   ]
  },
  {
   "cell_type": "code",
   "execution_count": null,
   "metadata": {
    "id": "Iij92XcnnX6s"
   },
   "outputs": [],
   "source": [
    "#Question 7\n",
    "def loop_detection(head):\n",
    "  fast=head.next\n",
    "  slow=head\n",
    "  while fast.next != None:\n",
    "    if fast == slow:\n",
    "      return 'looped'\n",
    "      break\n",
    "    fast=fast.next.next\n",
    "    slow=slow.next\n",
    "  return 'Not Looped'\n",
    "\n",
    "a=createList([8,12,10,5,4,1,6,8])\n",
    "print(loop_detection(a))\n",
    "last_node=NodeAt(a,7)\n",
    "third_node=NodeAt(a,4)\n",
    "last_node.next=third_node\n",
    "print(loop_detection(a))\n"
   ]
  },
  {
   "cell_type": "code",
   "execution_count": null,
   "metadata": {
    "id": "DMu-WL-DnZNM"
   },
   "outputs": [],
   "source": [
    "##Question 9\n",
    "def reverse_out_of_place(head):\n",
    "  new_head=Node(head.elem,None)\n",
    "  temp=head.next\n",
    "  while temp!=None:\n",
    "    n=Node(temp.elem,new_head)\n",
    "    new_head=n\n",
    "    temp=temp.next\n",
    "  return new_head\n",
    "def palindrome(head):\n",
    "  new_head=reverse_out_of_place(head)\n",
    "  temp1=new_head\n",
    "  temp2=head\n",
    "  a=0\n",
    "  while temp1 != None:\n",
    "    if temp1.elem != temp2.elem:\n",
    "      a= 1\n",
    "      break\n",
    "    temp1=temp1.next\n",
    "    temp2=temp2.next\n",
    "  if a==0:\n",
    "    return True\n",
    "  else:\n",
    "    return False\n",
    "\n",
    "print(palindrome(createList([8,12,10,5,4,1,6,8])))\n",
    "print(palindrome(createList([1,3,3,1])))"
   ]
  },
  {
   "cell_type": "code",
   "execution_count": null,
   "metadata": {
    "id": "qAJ3asu7nbKU"
   },
   "outputs": [],
   "source": [
    "#Question 11\n",
    "def identical(head1,head2):\n",
    "  new_head=head2\n",
    "  temp1=new_head\n",
    "  temp2=head1\n",
    "  a=0\n",
    "  while temp1 != None:\n",
    "    if temp1.elem != temp2.elem:\n",
    "      a= 1\n",
    "      break\n",
    "    temp1=temp1.next\n",
    "    temp2=temp2.next\n",
    "  if a==0:\n",
    "    return True\n",
    "  else:\n",
    "    return False\n",
    "print(identical(createList([1,2,3,4,5]),createList([1,2,3,4,5])))\n",
    "print(identical(createList([1,2,3,4,6,5]),createList([1,2,3,4,5])))"
   ]
  },
  {
   "cell_type": "code",
   "execution_count": null,
   "metadata": {
    "id": "GQ8J6cFZncY2"
   },
   "outputs": [],
   "source": [
    "##Question 12\n",
    "def swapp(head,idx):\n",
    "  idx1=idx-1\n",
    "  idx2=count(head)-idx\n",
    "  if idx1==0:\n",
    "    s_node=NodeAt(head,idx2)\n",
    "    s_node.next=head.next\n",
    "    s_suc=NodeAt(head,idx2+1)\n",
    "    head.next=s_suc\n",
    "    head=s_node\n",
    "  else:\n",
    "    node1=NodeAt(head,idx1)\n",
    "    node2=NodeAt(head,idx2)\n",
    "\n",
    "    prev_node1=NodeAt(head,idx1-1)\n",
    "    prev_node2=NodeAt(head,idx2-1)\n",
    "\n",
    "    suc_node1=NodeAt(head,idx1+1)\n",
    "    suc_node2=NodeAt(head,idx2+1)\n",
    "\n",
    "    prev_node1.next=node2\n",
    "    node2.next=suc_node1\n",
    "\n",
    "    prev_node2.next=node1\n",
    "    node1.next=suc_node2\n",
    "  return head\n",
    "\n",
    "printLinkedList(swapp(createList([1,2,3,4,5]),2))\n",
    "printLinkedList(swapp(createList([1,7,5,6,7]),2))\n",
    "\n",
    "#not perfect\n",
    "\n"
   ]
  },
  {
   "cell_type": "markdown",
   "metadata": {
    "id": "o-FkPMY6nn3q"
   },
   "source": [
    "##Doubly Linked List"
   ]
  },
  {
   "cell_type": "code",
   "execution_count": null,
   "metadata": {
    "id": "OzabOTWznsl7"
   },
   "outputs": [],
   "source": [
    "class DoublyLinkedList:\n",
    "  def __init__(self,elem,next,prev):\n",
    "    self.elem=elem\n",
    "    self.next=next\n",
    "    self.prev=prev\n",
    "def createList(arr):\n",
    "  dh=DoublyLinkedList(None,None,None)\n",
    "  dh.next=dh\n",
    "  dh.prev=dh\n",
    "  tail=dh\n",
    "  for i in range(len(arr)):\n",
    "    n=DoublyLinkedList(arr[i],dh,tail)\n",
    "    tail.next=n\n",
    "    tail=tail.next\n",
    "    dh.prev=tail\n",
    "  return dh\n",
    "def print_list(head):\n",
    "    current = head\n",
    "    while True:\n",
    "        print(current.elem, end=\" ⇔ \")\n",
    "        current = current.next\n",
    "        if current == head:\n",
    "            break\n",
    "    print(\"None\")"
   ]
  },
  {
   "cell_type": "code",
   "execution_count": null,
   "metadata": {
    "id": "-5h8huUontY9"
   },
   "outputs": [],
   "source": [
    "#Question 1\n",
    "def palindrome(head):\n",
    "  temp=head\n",
    "  while temp != None:\n",
    "    temp=temp.next\n",
    "  a=True\n",
    "  while head != None:\n",
    "    if head.elem != temp.elem:\n",
    "       a=False\n",
    "    head=head.next\n",
    "    temp=temp.prev\n",
    "  return a"
   ]
  },
  {
   "cell_type": "code",
   "execution_count": null,
   "metadata": {
    "id": "vCK5bHudn0us"
   },
   "outputs": [],
   "source": [
    "## Question 3\n",
    "\n",
    "def find_largest(dh):\n",
    "  temp=dh.next\n",
    "  max=-9999999999\n",
    "  while temp != dh:\n",
    "    if temp.elem > max:\n",
    "      max=temp.elem\n",
    "    temp=temp.next\n",
    "  return max\n",
    "a=find_largest(createList([10,70,40,15]))\n",
    "print(a)\n",
    "\n"
   ]
  },
  {
   "cell_type": "code",
   "execution_count": null,
   "metadata": {
    "id": "syync2Fmn22k"
   },
   "outputs": [],
   "source": [
    "##Question 4\n",
    "\n",
    "def rotate_right_by_k_node(dh,k):\n",
    "  for i in range(k):\n",
    "    first_node=dh.next\n",
    "    temp=dh.next\n",
    "    while temp.next != dh:\n",
    "      temp=temp.next\n",
    "    last_node=temp\n",
    "    last_node.prev.next=dh\n",
    "    last_node.next=dh.next\n",
    "    dh.prev=last_node.prev\n",
    "    last_node.prev=dh\n",
    "    dh.next=last_node\n",
    "  return dh\n",
    "\n",
    "a=rotate_right_by_k_node(createList([10,70,40,15]),1)\n",
    "print_list(a)\n"
   ]
  },
  {
   "cell_type": "code",
   "execution_count": null,
   "metadata": {
    "id": "x12RqXten4lf"
   },
   "outputs": [],
   "source": [
    "##question 5\n",
    "\n",
    "def rotate_left_by_k_node(dh,k):\n",
    "  for i in range(k):\n",
    "    first_node=dh.next\n",
    "    second_node=dh.next.next\n",
    "    temp=dh.next\n",
    "    while temp.next != dh:\n",
    "      temp=temp.next\n",
    "    last_node=temp\n",
    "    last_node.next=first_node\n",
    "    first_node.prev=last_node\n",
    "    first_node.next=dh\n",
    "    dh.next=second_node\n",
    "    dh.prev=first_node\n",
    "  return dh\n",
    "\n",
    "\n",
    "a=rotate_left_by_k_node(createList([10,70,40,15]),3)\n",
    "print_list(a)"
   ]
  }
 ],
 "metadata": {
  "colab": {
   "provenance": []
  },
  "kernelspec": {
   "display_name": "Python 3",
   "name": "python3"
  },
  "language_info": {
   "codemirror_mode": {
    "name": "ipython",
    "version": 3
   },
   "file_extension": ".py",
   "mimetype": "text/x-python",
   "name": "python",
   "nbconvert_exporter": "python",
   "pygments_lexer": "ipython3",
   "version": "3.11.9"
  }
 },
 "nbformat": 4,
 "nbformat_minor": 0
}
