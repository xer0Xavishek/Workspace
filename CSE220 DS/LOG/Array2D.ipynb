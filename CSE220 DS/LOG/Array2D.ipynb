{
  "nbformat": 4,
  "nbformat_minor": 0,
  "metadata": {
    "colab": {
      "provenance": []
    },
    "kernelspec": {
      "name": "python3",
      "display_name": "Python 3"
    },
    "language_info": {
      "name": "python"
    }
  },
  "cells": [
    {
      "cell_type": "code",
      "execution_count": null,
      "metadata": {
        "id": "9nmU8ePm0du-"
      },
      "outputs": [],
      "source": [
        "import numpy as np"
      ]
    },
    {
      "cell_type": "code",
      "source": [
        "a_2d = np.array([[1, 2, 3], [4, 5, 6]]) #list inside list\n",
        "print(a_2d)"
      ],
      "metadata": {
        "colab": {
          "base_uri": "https://localhost:8080/"
        },
        "id": "MENBfNRp1bhW",
        "outputId": "436bd2ff-28a6-4ec5-ae15-6ea4ea35ab5a"
      },
      "execution_count": null,
      "outputs": [
        {
          "output_type": "stream",
          "name": "stdout",
          "text": [
            "[[1 2 3]\n",
            " [4 5 6]]\n"
          ]
        }
      ]
    },
    {
      "cell_type": "code",
      "source": [],
      "metadata": {
        "id": "ILF7hhPyQeJb"
      },
      "execution_count": null,
      "outputs": []
    },
    {
      "cell_type": "code",
      "source": [
        "a_2d = np.zeros((2,3)) #row-column must be in a tuple\n",
        "print(a_2d)"
      ],
      "metadata": {
        "colab": {
          "base_uri": "https://localhost:8080/"
        },
        "id": "ydD5pw261oGv",
        "outputId": "75a3c099-4922-487d-dacd-e350e8850b55"
      },
      "execution_count": null,
      "outputs": [
        {
          "output_type": "stream",
          "name": "stdout",
          "text": [
            "[[0. 0. 0.]\n",
            " [0. 0. 0.]]\n"
          ]
        }
      ]
    },
    {
      "cell_type": "code",
      "source": [
        "a_3d = np.zeros((2, 3, 4))\n",
        "print(a_3d)"
      ],
      "metadata": {
        "colab": {
          "base_uri": "https://localhost:8080/"
        },
        "id": "_KQFxYNWQexG",
        "outputId": "a940cb51-fbcb-4b47-9db8-731390d0e0ac"
      },
      "execution_count": null,
      "outputs": [
        {
          "output_type": "stream",
          "name": "stdout",
          "text": [
            "[[[0. 0. 0. 0.]\n",
            "  [0. 0. 0. 0.]\n",
            "  [0. 0. 0. 0.]]\n",
            "\n",
            " [[0. 0. 0. 0.]\n",
            "  [0. 0. 0. 0.]\n",
            "  [0. 0. 0. 0.]]]\n"
          ]
        }
      ]
    },
    {
      "cell_type": "code",
      "source": [
        "a_2d = np.array([[None]*3]*2) #initializing numpy 2d array with None values\n",
        "print(a_2d)"
      ],
      "metadata": {
        "colab": {
          "base_uri": "https://localhost:8080/"
        },
        "id": "PUSNacdj1zo8",
        "outputId": "c119af15-5ab5-43f0-b4cc-e20617605348"
      },
      "execution_count": null,
      "outputs": [
        {
          "output_type": "stream",
          "name": "stdout",
          "text": [
            "[[None None None]\n",
            " [None None None]]\n"
          ]
        }
      ]
    },
    {
      "cell_type": "code",
      "source": [
        "a_2d[0][0] = 4\n",
        "print(a_2d)"
      ],
      "metadata": {
        "colab": {
          "base_uri": "https://localhost:8080/"
        },
        "id": "Ai1ht7fjKIdB",
        "outputId": "b24686b4-c7ab-44db-95ee-84ce1de0c932"
      },
      "execution_count": null,
      "outputs": [
        {
          "output_type": "stream",
          "name": "stdout",
          "text": [
            "[[4 None None]\n",
            " [None None None]]\n"
          ]
        }
      ]
    },
    {
      "cell_type": "code",
      "source": [
        "a_2d = np.array([[1, 2, 3], [4, 5, 6]])\n",
        "print(len(a_2d))"
      ],
      "metadata": {
        "colab": {
          "base_uri": "https://localhost:8080/"
        },
        "id": "PYAc0wSL_O0M",
        "outputId": "c7f2490f-a03c-428b-a6bb-3aa0015afc8f"
      },
      "execution_count": null,
      "outputs": [
        {
          "output_type": "stream",
          "name": "stdout",
          "text": [
            "2\n"
          ]
        }
      ]
    },
    {
      "cell_type": "code",
      "source": [
        "a_2d = np.array([[1, 2, 3], [4, 5, 6]])\n",
        "print(a_2d.shape)\n",
        "print(a_2d.shape[0]) #prints the row\n",
        "print(a_2d.shape[1]) #prints the column"
      ],
      "metadata": {
        "colab": {
          "base_uri": "https://localhost:8080/"
        },
        "id": "ORAKhfEs_XsV",
        "outputId": "38c43f9f-b432-45c0-9776-b1faa2f7f3e7"
      },
      "execution_count": null,
      "outputs": [
        {
          "output_type": "stream",
          "name": "stdout",
          "text": [
            "(2, 3)\n",
            "2\n",
            "3\n"
          ]
        }
      ]
    },
    {
      "cell_type": "code",
      "source": [
        "row, column = a_2d.shape\n",
        "print(row)\n",
        "print(column)"
      ],
      "metadata": {
        "colab": {
          "base_uri": "https://localhost:8080/"
        },
        "id": "jSZztQCt_fm6",
        "outputId": "2658cea8-81ab-43ed-97b1-4c0587a4047e"
      },
      "execution_count": null,
      "outputs": [
        {
          "output_type": "stream",
          "name": "stdout",
          "text": [
            "2\n",
            "3\n"
          ]
        }
      ]
    },
    {
      "cell_type": "code",
      "source": [
        "#Accesing through index\n",
        "print(a_2d[0][2])"
      ],
      "metadata": {
        "colab": {
          "base_uri": "https://localhost:8080/"
        },
        "id": "7fTDKpBAAmeb",
        "outputId": "3dad083a-ee3b-4915-dcf1-59c7c4efbc3b"
      },
      "execution_count": null,
      "outputs": [
        {
          "output_type": "stream",
          "name": "stdout",
          "text": [
            "3\n"
          ]
        }
      ]
    },
    {
      "cell_type": "code",
      "source": [
        "a_2d[0][2] = 9\n",
        "print(a_2d)"
      ],
      "metadata": {
        "colab": {
          "base_uri": "https://localhost:8080/"
        },
        "id": "1cUV84wRA5D-",
        "outputId": "60ea597e-9594-4e5b-f8c3-d45c74e0cf14"
      },
      "execution_count": null,
      "outputs": [
        {
          "output_type": "stream",
          "name": "stdout",
          "text": [
            "[[1 2 9]\n",
            " [4 5 6]]\n"
          ]
        }
      ]
    },
    {
      "cell_type": "code",
      "source": [
        "#Iterating through 2d array\n",
        "\n",
        "row, column = a_2d.shape\n",
        "for i in range(row):\n",
        "  for j in range(column):\n",
        "    print(a_2d[i][j])"
      ],
      "metadata": {
        "colab": {
          "base_uri": "https://localhost:8080/"
        },
        "id": "bc1aHgwsBAcZ",
        "outputId": "3c3cf266-3f00-48bb-bd9f-b48d0266cf57"
      },
      "execution_count": null,
      "outputs": [
        {
          "output_type": "stream",
          "name": "stdout",
          "text": [
            "1\n",
            "2\n",
            "9\n",
            "4\n",
            "5\n",
            "6\n"
          ]
        }
      ]
    },
    {
      "cell_type": "code",
      "source": [
        "#Summing every rows\n",
        "\n",
        "def rowWiseSum(arr_2d):\n",
        "  #Complete it by yourself\n",
        "\n",
        "a_2d = np.array([[1, 2, 3], [4, 5, 6], [7, 8, 9]])\n",
        "print(rowWiseSum(a_2d))"
      ],
      "metadata": {
        "colab": {
          "base_uri": "https://localhost:8080/"
        },
        "id": "wN-3wr8u3-ac",
        "outputId": "67d943dc-cdc3-4181-d181-53c2ead5bfa9"
      },
      "execution_count": null,
      "outputs": [
        {
          "output_type": "stream",
          "name": "stdout",
          "text": [
            "[ 6 15 24]\n"
          ]
        }
      ]
    },
    {
      "cell_type": "code",
      "source": [
        "#Summing every columns\n",
        "\n",
        "def colWiseSum(arr_2d):\n",
        "  #Complete it by yourself\n",
        "\n",
        "a_2d = np.array([[1, 2, 3], [4, 5, 6], [7, 8, 9]])\n",
        "print(colWiseSum(a_2d))"
      ],
      "metadata": {
        "colab": {
          "base_uri": "https://localhost:8080/"
        },
        "id": "4hqEQ-C445cy",
        "outputId": "85b88e09-a838-4262-c2e7-62ee2cb03ee6"
      },
      "execution_count": null,
      "outputs": [
        {
          "output_type": "stream",
          "name": "stdout",
          "text": [
            "[12 15 18]\n"
          ]
        }
      ]
    },
    {
      "cell_type": "code",
      "source": [
        "#Swapping columns\n",
        "\n",
        "def swapCols(arr_2d):\n",
        "  row, column = arr_2d.shape\n",
        "  for i in range(row):\n",
        "    for j in range(int(column/2)):\n",
        "      temp = arr_2d[i][j]\n",
        "      arr_2d[i][j] = arr_2d[i][column-1-j]\n",
        "      arr_2d[i][column-1-j] = temp\n",
        "\n",
        "  return arr_2d\n",
        "\n",
        "a_2d = np.array([[1, 2, 3], [4, 5, 6], [7, 8, 9]])\n",
        "print(swapCols(a_2d))"
      ],
      "metadata": {
        "colab": {
          "base_uri": "https://localhost:8080/"
        },
        "id": "qptzy4MK5ONB",
        "outputId": "512f33e9-73f4-45a8-d057-849b786a4c1e"
      },
      "execution_count": null,
      "outputs": [
        {
          "output_type": "stream",
          "name": "stdout",
          "text": [
            "[[3 2 1]\n",
            " [6 5 4]\n",
            " [9 8 7]]\n"
          ]
        }
      ]
    },
    {
      "cell_type": "code",
      "source": [
        "#Swapping rows\n",
        "\n",
        "def swapRows(arr_2d):\n",
        "  #Complete it by yourself\n",
        "\n",
        "a_2d = np.array([[1, 2, 3], [4, 5, 6], [7, 8, 9]])\n",
        "print(swapRows(a_2d))"
      ],
      "metadata": {
        "colab": {
          "base_uri": "https://localhost:8080/"
        },
        "id": "d_RbBIFz7sv-",
        "outputId": "1b50c7b7-5f45-458b-e4b3-d2d94634c27c"
      },
      "execution_count": null,
      "outputs": [
        {
          "output_type": "stream",
          "name": "stdout",
          "text": [
            "[[7 8 9]\n",
            " [4 5 6]\n",
            " [1 2 3]]\n"
          ]
        }
      ]
    },
    {
      "cell_type": "code",
      "source": [
        "#Adding primary diagonal elements\n",
        "\n",
        "def addPrimaryDiagonal(arr_2d):\n",
        "  row, column = arr_2d.shape\n",
        "  if row != column:\n",
        "    return \"Given array is not a square matrix\"\n",
        "  else:\n",
        "    sum = 0\n",
        "    for i in range(row):\n",
        "      for j in range(column):\n",
        "        if i == j:\n",
        "          sum += arr_2d[i][j]\n",
        "    return sum\n",
        "\n",
        "a_2d = np.array([[1, 2, 3], [4, 5, 6], [7, 8, 9]])\n",
        "print(addPrimaryDiagonal(a_2d))"
      ],
      "metadata": {
        "colab": {
          "base_uri": "https://localhost:8080/"
        },
        "id": "2xhulbDnK13X",
        "outputId": "8af5e1fc-bb00-4aad-c36a-29d636db490a"
      },
      "execution_count": null,
      "outputs": [
        {
          "output_type": "stream",
          "name": "stdout",
          "text": [
            "15\n"
          ]
        }
      ]
    },
    {
      "cell_type": "code",
      "source": [
        "#Adding secondary diagonal elements\n",
        "\n",
        "def addSecondaryDiagonal(arr_2d):\n",
        "  #Complete it by yourself\n",
        "\n",
        "a_2d = np.array([[4, 3, 8], [2, 5, 1], [7, 6, 9]])\n",
        "print(addSecondaryDiagonal(a_2d))"
      ],
      "metadata": {
        "colab": {
          "base_uri": "https://localhost:8080/"
        },
        "id": "ywfczlDQLflC",
        "outputId": "7646d290-5790-4f66-cae6-ca15f2e96f13"
      },
      "execution_count": null,
      "outputs": [
        {
          "output_type": "stream",
          "name": "stdout",
          "text": [
            "20\n"
          ]
        }
      ]
    }
  ]
}