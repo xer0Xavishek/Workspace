{
 "cells": [
  {
   "cell_type": "markdown",
   "metadata": {
    "id": "4LYYhNdvi03h"
   },
   "source": [
    "\n",
    "\n",
    "1.   Be careful in which question you are required to change the given Linked list and where you are required to create a new one\n",
    "2.   Be careful of the first node and the last node [aka corner cases]\n",
    "3.   Do not use any other data structure other than Linked List\n",
    "\n"
   ]
  },
  {
   "cell_type": "markdown",
   "metadata": {
    "id": "v8m-0O9Pi9ET"
   },
   "source": [
    "**You must run this cell to install dependency**"
   ]
  },
  {
   "cell_type": "code",
   "execution_count": 1,
   "metadata": {
    "colab": {
     "base_uri": "https://localhost:8080/"
    },
    "id": "3vZHyMlVi0cs",
    "outputId": "96e0bedc-9935-4f28-9da2-9127a602f1ce"
   },
   "outputs": [
    {
     "name": "stdout",
     "output_type": "stream",
     "text": [
      "Requirement already satisfied: fhm-unittest in c:\\users\\avishek\\appdata\\local\\packages\\pythonsoftwarefoundation.python.3.11_qbz5n2kfra8p0\\localcache\\local-packages\\python311\\site-packages (1.0.1)\n",
      "Requirement already satisfied: fuzzywuzzy in c:\\users\\avishek\\appdata\\local\\packages\\pythonsoftwarefoundation.python.3.11_qbz5n2kfra8p0\\localcache\\local-packages\\python311\\site-packages (0.18.0)\n"
     ]
    },
    {
     "name": "stderr",
     "output_type": "stream",
     "text": [
      "C:\\Users\\Avishek\\AppData\\Local\\Packages\\PythonSoftwareFoundation.Python.3.11_qbz5n2kfra8p0\\LocalCache\\local-packages\\Python311\\site-packages\\fuzzywuzzy\\fuzz.py:11: UserWarning: Using slow pure-python SequenceMatcher. Install python-Levenshtein to remove this warning\n",
      "  warnings.warn('Using slow pure-python SequenceMatcher. Install python-Levenshtein to remove this warning')\n"
     ]
    }
   ],
   "source": [
    "! pip3 install fhm-unittest\n",
    "! pip3 install fuzzywuzzy\n",
    "import fhm_unittest as unittest\n",
    "import numpy as np"
   ]
  },
  {
   "cell_type": "markdown",
   "metadata": {
    "id": "b7eLAb26jNlR"
   },
   "source": [
    "**You must Run this cell for your driver code to execute successfully**"
   ]
  },
  {
   "cell_type": "code",
   "execution_count": 2,
   "metadata": {
    "id": "Yvtwdm02iNbm"
   },
   "outputs": [],
   "source": [
    "#Run this cell\n",
    "class Node:\n",
    "  def __init__(self,elem,next = None):\n",
    "    self.elem,self.next = elem,next\n",
    "\n",
    "def createList(arr):\n",
    "  head = Node(arr[0])\n",
    "  tail = head\n",
    "  for i in range(1,len(arr)):\n",
    "    newNode = Node(arr[i])\n",
    "    tail.next = newNode\n",
    "    tail = newNode\n",
    "  return head\n",
    "\n",
    "def printLinkedList(head):\n",
    "  temp = head\n",
    "  while temp != None:\n",
    "    if temp.next != None:\n",
    "      print(temp.elem, end = '-->')\n",
    "    else:\n",
    "      print(temp.elem)\n",
    "    temp = temp.next\n",
    "  print()\n"
   ]
  },
  {
   "cell_type": "markdown",
   "metadata": {
    "id": "YcFhPJxPjcfl"
   },
   "source": [
    "Task 1: Building Blocks"
   ]
  },
  {
   "cell_type": "code",
   "execution_count": 3,
   "metadata": {
    "colab": {
     "base_uri": "https://localhost:8080/"
    },
    "id": "QU2I53-4jWSo",
    "outputId": "df778dd0-d9fd-4269-8186-deece4f8c0af"
   },
   "outputs": [
    {
     "name": "stdout",
     "output_type": "stream",
     "text": [
      "==============Test Case 1=============\n",
      "Building 1:  Red-->Green-->Yellow-->Red-->Blue-->Green\n",
      "\n",
      "Building 2:  Red-->Green-->Yellow-->Red-->Blue-->Green\n",
      "\n",
      "Similar\n",
      "Accepted\n",
      "\n",
      "==============Test Case 2=============\n",
      "Building 1:  Red-->Green-->Yellow-->Red-->Yellow-->Green\n",
      "\n",
      "Building 2:  Red-->Green-->Yellow-->Red-->Blue-->Green\n",
      "\n",
      "Not Similar\n",
      "Accepted\n",
      "\n",
      "==============Test Case 3=============\n",
      "Building 1:  Red-->Green-->Yellow-->Red-->Blue-->Green\n",
      "\n",
      "Building 2:  Red-->Green-->Yellow-->Red-->Blue-->Green-->Blue\n",
      "\n",
      "Not Similar\n",
      "Accepted\n",
      "\n",
      "==============Test Case 4=============\n",
      "Building 1:  Red-->Green-->Yellow-->Red-->Blue-->Green-->Blue\n",
      "\n",
      "Building 2:  Red-->Green-->Yellow-->Red-->Blue-->Green\n",
      "\n",
      "Not Similar\n",
      "Accepted\n",
      "\n"
     ]
    }
   ],
   "source": [
    "#Task 1\n",
    "def check_similar(building_1, building_2):\n",
    "\n",
    "    while building_1!=None and building_2!=None:\n",
    "\n",
    "        if building_1.elem != building_2.elem:\n",
    "            return \"Not Similar\"\n",
    "\n",
    "        building_1 = building_1.next\n",
    "        building_2 = building_2.next\n",
    "\n",
    "    if building_1!=None or building_2!=None:\n",
    "\n",
    "        return \"Not Similar\"\n",
    "\n",
    "    return \"Similar\"\n",
    "\n",
    "print('==============Test Case 1=============')\n",
    "building_1 = createList(np.array(['Red', 'Green', 'Yellow', 'Red', 'Blue', 'Green']))\n",
    "building_2 = createList(np.array(['Red', 'Green', 'Yellow', 'Red', 'Blue', 'Green']))\n",
    "print('Building 1: ', end = ' ')\n",
    "printLinkedList(building_1)\n",
    "print('Building 2: ', end = ' ')\n",
    "printLinkedList(building_2)\n",
    "returned_value = check_similar(building_1, building_2)\n",
    "print(returned_value) #This should print 'Similar'\n",
    "unittest.output_test(returned_value, 'Similar')\n",
    "print()\n",
    "\n",
    "print('==============Test Case 2=============')\n",
    "building_1 = createList(np.array(['Red', 'Green', 'Yellow', 'Red', 'Yellow', 'Green']))\n",
    "building_2 = createList(np.array(['Red', 'Green', 'Yellow', 'Red', 'Blue', 'Green']))\n",
    "print('Building 1: ', end = ' ')\n",
    "printLinkedList(building_1)\n",
    "print('Building 2: ', end = ' ')\n",
    "printLinkedList(building_2)\n",
    "returned_value = check_similar(building_1, building_2)\n",
    "print(returned_value) #This should print 'Not Similar'\n",
    "unittest.output_test(returned_value, 'Not Similar')\n",
    "print()\n",
    "\n",
    "print('==============Test Case 3=============')\n",
    "building_1 = createList(np.array(['Red', 'Green', 'Yellow', 'Red', 'Blue', 'Green']))\n",
    "building_2 = createList(np.array(['Red', 'Green', 'Yellow', 'Red', 'Blue', 'Green', 'Blue']))\n",
    "print('Building 1: ', end = ' ')\n",
    "printLinkedList(building_1)\n",
    "print('Building 2: ', end = ' ')\n",
    "printLinkedList(building_2)\n",
    "returned_value = check_similar(building_1, building_2)\n",
    "print(returned_value) #This should print 'Not Similar'\n",
    "unittest.output_test(returned_value, 'Not Similar')\n",
    "print()\n",
    "\n",
    "print('==============Test Case 4=============')\n",
    "building_1 = createList(np.array(['Red', 'Green', 'Yellow', 'Red', 'Blue', 'Green', 'Blue']))\n",
    "building_2 = createList(np.array(['Red', 'Green', 'Yellow', 'Red', 'Blue', 'Green']))\n",
    "print('Building 1: ', end = ' ')\n",
    "printLinkedList(building_1)\n",
    "print('Building 2: ', end = ' ')\n",
    "printLinkedList(building_2)\n",
    "returned_value = check_similar(building_1, building_2)\n",
    "print(returned_value) #This should print 'Not Similar'\n",
    "unittest.output_test(returned_value, 'Not Similar')\n",
    "print()"
   ]
  },
  {
   "cell_type": "markdown",
   "metadata": {
    "id": "KXf5NwHJjrga"
   },
   "source": [
    "Task 2: Remove Compartment"
   ]
  },
  {
   "cell_type": "code",
   "execution_count": 4,
   "metadata": {
    "colab": {
     "base_uri": "https://localhost:8080/"
    },
    "id": "RZFDGPlGkC9M",
    "outputId": "8a3bc82f-abd2-4636-8cd5-72af455b7614"
   },
   "outputs": [
    {
     "name": "stdout",
     "output_type": "stream",
     "text": [
      "==============Test Case 1=============\n",
      "Original Compartment Sequence:  10-->15-->34-->41-->56-->72\n",
      "\n",
      "Changed Compartment Sequence:  10-->15-->34-->41-->72\n",
      "\n",
      "\n",
      "==============Test Case 2=============\n",
      "Original Compartment Sequence:  10-->15-->34-->41-->56-->72\n",
      "\n",
      "Changed Compartment Sequence:  10-->15-->34-->41-->56-->72\n",
      "\n",
      "\n",
      "==============Test Case 3=============\n",
      "Original Compartment Sequence:  10-->15-->34-->41-->56-->72\n",
      "\n",
      "Changed Compartment Sequence:  15-->34-->41-->56-->72\n",
      "\n",
      "\n"
     ]
    }
   ],
   "source": [
    "from itertools import count\n",
    "\n",
    "#Task 2\n",
    "def nodeAt(head,idx):\n",
    "    temp=head\n",
    "    count=0\n",
    "    while temp!=None:\n",
    "        if count==idx:\n",
    "            return temp\n",
    "        count+=1\n",
    "        temp=temp.next\n",
    "    return None\n",
    "\n",
    "def delAtAny(head,idx):\n",
    "\n",
    "    if idx>0 :\n",
    "        prev=nodeAt(head,idx-1)\n",
    "        curr=nodeAt(head,idx)\n",
    "        prev.next=curr.next\n",
    "        curr.next=None\n",
    "    elif idx==0:\n",
    "        curr=head\n",
    "        head=head.next\n",
    "        curr.next=None\n",
    "    return head\n",
    "\n",
    "def countList(head):\n",
    "    temp=head\n",
    "    count=0\n",
    "    while temp!=None:\n",
    "        count+=1\n",
    "        temp=temp.next\n",
    "    return count\n",
    "\n",
    "\n",
    "def remove_compartment(head,n):\n",
    "\n",
    "    count=countList(head)\n",
    "\n",
    "    idx= (count - n)\n",
    "    if 0<idx<count:\n",
    "        delAtAny(head,idx)\n",
    "    if idx==0:\n",
    "        head=head.next\n",
    "\n",
    "    return head\n",
    "\n",
    "\n",
    "\n",
    "\n",
    "\n",
    "print('==============Test Case 1=============')\n",
    "head = createList(np.array([10,15,34,41,56,72]))\n",
    "print('Original Compartment Sequence: ', end = ' ')\n",
    "printLinkedList(head)\n",
    "head = remove_compartment(head,2)\n",
    "print('Changed Compartment Sequence: ', end = ' ')\n",
    "printLinkedList(head) #This should print 10-->15-->34-->41-->72\n",
    "print()\n",
    "print('==============Test Case 2=============')\n",
    "head = createList(np.array([10,15,34,41,56,72]))\n",
    "print('Original Compartment Sequence: ', end = ' ')\n",
    "printLinkedList(head)\n",
    "head = remove_compartment(head,7)\n",
    "print('Changed Compartment Sequence: ', end = ' ')\n",
    "printLinkedList(head) #This should print 10-->15-->34-->41-->56-->72\n",
    "print()\n",
    "print('==============Test Case 3=============')\n",
    "head = createList(np.array([10,15,34,41,56,72]))\n",
    "print('Original Compartment Sequence: ', end = ' ')\n",
    "printLinkedList(head)\n",
    "head = remove_compartment(head,6)\n",
    "print('Changed Compartment Sequence: ', end = ' ')\n",
    "printLinkedList(head) #This should print 15-->34-->41-->56-->72\n",
    "print()"
   ]
  },
  {
   "cell_type": "markdown",
   "metadata": {
    "id": "1ru-53ewkgET"
   },
   "source": [
    "Task 3: Assemble Conga Line"
   ]
  },
  {
   "cell_type": "code",
   "execution_count": 5,
   "metadata": {
    "colab": {
     "base_uri": "https://localhost:8080/"
    },
    "id": "el2Iqez0kmfD",
    "outputId": "a3bcdeb8-4bf2-4c88-c9e4-be70bd2c5c37"
   },
   "outputs": [
    {
     "name": "stdout",
     "output_type": "stream",
     "text": [
      "==============Test Case 1=============\n",
      "Original Conga Line:  10-->15-->34-->41-->56-->72\n",
      "\n",
      "True\n",
      "Accepted\n",
      "\n",
      "==============Test Case 2=============\n",
      "Original Conga Line:  10-->15-->44-->41-->56-->72\n",
      "\n",
      "False\n",
      "Accepted\n",
      "\n"
     ]
    }
   ],
   "source": [
    "def assemble_conga_line(conga_line):\n",
    "\n",
    "  pointerX= conga_line\n",
    "\n",
    "  while pointerX.next!=None:\n",
    "\n",
    "    if pointerX.elem>pointerX.next.elem:\n",
    "\n",
    "      return False\n",
    "\n",
    "\n",
    "    pointerX=pointerX.next\n",
    "  return True\n",
    "\n",
    "\n",
    "print('==============Test Case 1=============')\n",
    "conga_line = createList(np.array([10,15,34,41,56,72]))\n",
    "print('Original Conga Line: ', end = ' ')\n",
    "printLinkedList(conga_line)\n",
    "returned_value = assemble_conga_line(conga_line)\n",
    "print(returned_value) #This should print True\n",
    "unittest.output_test(returned_value, True)\n",
    "print()\n",
    "print('==============Test Case 2=============')\n",
    "conga_line = createList(np.array([10,15,44,41,56,72]))\n",
    "print('Original Conga Line: ', end = ' ')\n",
    "printLinkedList(conga_line)\n",
    "returned_value = assemble_conga_line(conga_line)\n",
    "print(returned_value) #This should print False\n",
    "unittest.output_test(returned_value, False)\n",
    "print()"
   ]
  },
  {
   "cell_type": "markdown",
   "metadata": {
    "id": "iD_ytSvbloPy"
   },
   "source": [
    "Task 4: Word Decoder"
   ]
  },
  {
   "cell_type": "code",
   "execution_count": 6,
   "metadata": {
    "colab": {
     "base_uri": "https://localhost:8080/"
    },
    "id": "1vCIg_cF_3WE",
    "outputId": "87fca428-db8c-4ec4-d4d8-c87a5a3c351e"
   },
   "outputs": [
    {
     "name": "stdout",
     "output_type": "stream",
     "text": [
      "==============Test Case 1=============\n",
      "Encoded Word:\n",
      "B-->M-->D-->T-->N-->O-->A-->P-->S-->C\n",
      "\n",
      "dkryptt Word:\n",
      "None-->C-->A-->T\n",
      "\n",
      "==============Test Case 2=============\n",
      "Encoded Word:\n",
      "Z-->O-->T-->N-->X\n",
      "\n",
      "dkryptt Word:\n",
      "None-->N\n",
      "\n"
     ]
    }
   ],
   "source": [
    "def word_Decoder(head):\n",
    "    count=0\n",
    "    temp=head\n",
    "    while temp!=None:\n",
    "        count+=1\n",
    "        temp=temp.next\n",
    "    x= 13 % count\n",
    "\n",
    "    d = Node(None)\n",
    "    dkryptt=d\n",
    "\n",
    "    trakerX= head\n",
    "\n",
    "    idx=0\n",
    "\n",
    "    while trakerX!=None:\n",
    "\n",
    "        if idx != 0 and idx % x ==0:\n",
    "\n",
    "            n = Node(trakerX.elem)\n",
    "\n",
    "\n",
    "            n.next=dkryptt.next\n",
    "\n",
    "            dkryptt.next= n\n",
    "\n",
    "\n",
    "        trakerX = trakerX.next\n",
    "        idx += 1\n",
    "\n",
    "    return dkryptt\n",
    "\n",
    "\n",
    "#Driver Code\n",
    "print('==============Test Case 1=============')\n",
    "head = createList(np.array(['B', 'M', 'D', 'T', 'N', 'O', 'A', 'P', 'S', 'C']))\n",
    "print(\"Encoded Word:\")\n",
    "printLinkedList(head) #This should print B→M→D→T→N→O→A→P→S→C\n",
    "\n",
    "result = word_Decoder(head)\n",
    "print(\"dkryptt Word:\")\n",
    "printLinkedList(result)    #This should print None→C→A→T\n",
    "\n",
    "print('==============Test Case 2=============')\n",
    "\n",
    "head = createList(np.array(['Z', 'O', 'T', 'N', 'X']))\n",
    "print(\"Encoded Word:\")\n",
    "printLinkedList(head) #This should print Z→O→T→N→X\n",
    "\n",
    "result = word_Decoder(head)\n",
    "print(\"dkryptt Word:\")\n",
    "printLinkedList(result)    #This should print None→N\n"
   ]
  },
  {
   "cell_type": "code",
   "execution_count": null,
   "metadata": {
    "id": "kMeb0tWh__1i"
   },
   "outputs": [],
   "source": []
  },
  {
   "cell_type": "markdown",
   "metadata": {
    "id": "KH4qPwI-nIN4"
   },
   "source": [
    "Task 5: Alternate Merge"
   ]
  },
  {
   "cell_type": "code",
   "execution_count": null,
   "metadata": {
    "colab": {
     "base_uri": "https://localhost:8080/"
    },
    "id": "0D7bZtp1nMRI",
    "outputId": "7d8da91c-3ff0-49ab-876c-f2b48b8b0d32"
   },
   "outputs": [
    {
     "name": "stdout",
     "output_type": "stream",
     "text": [
      "==============Test Case 1=============\n",
      "Linked List 1:\n",
      "1-->2-->6-->8-->11\n",
      "\n",
      "Linked List 2:\n",
      "5-->7-->3-->9-->4\n",
      "\n",
      "Merged Linked List:\n",
      "1-->5-->2-->7-->6-->3-->8-->9-->11-->4\n",
      "\n",
      "==============Test Case 2=============\n",
      "Linked List 1:\n",
      "5-->3-->2-->-4\n",
      "\n",
      "Linked List 2:\n",
      "-4-->-6-->1\n",
      "\n",
      "Merged Linked List:\n",
      "5-->-4-->3-->-6-->2-->1-->-4\n",
      "\n",
      "==============Test Case 3=============\n",
      "Linked List 1:\n",
      "4-->2-->-2-->-4\n",
      "\n",
      "Linked List 2:\n",
      "8-->6-->5-->-3\n",
      "\n",
      "Merged Linked List:\n",
      "4-->8-->2-->6-->-2-->5-->-4-->-3\n",
      "\n"
     ]
    }
   ],
   "source": [
    "#Task 5 ?????????????????????????????????\n",
    "def alternate_merge(head1, head2):\n",
    "    node_1 = head1\n",
    "    node_2 = head2\n",
    "    while node_1 and node_2:\n",
    "        next1 = node_1.next\n",
    "        next2 = node_2.next\n",
    "\n",
    "        node_1.next = node_2\n",
    "\n",
    "        if next1!=None:\n",
    "            node_2.next = next1\n",
    "\n",
    "        node_1 = next1\n",
    "        node_2 = next2\n",
    "\n",
    "    return head1\n",
    "\n",
    "\n",
    "\n",
    "print('==============Test Case 1=============')\n",
    "head1 = createList(np.array([1,2,6,8,11]))\n",
    "head2 = createList(np.array([5,7,3,9,4]))\n",
    "\n",
    "print(\"Linked List 1:\")\n",
    "printLinkedList(head1)\n",
    "print(\"Linked List 2:\")\n",
    "printLinkedList(head2)\n",
    "\n",
    "head = alternate_merge(head1, head2)\n",
    "print(\"Merged Linked List:\")\n",
    "printLinkedList(head)    #This should print    1 --> 5 --> 2 --> 7 --> 6 --> 3 --> 8 --> 9 --> 11 --> 4\n",
    "\n",
    "\n",
    "print('==============Test Case 2=============')\n",
    "head1 = createList(np.array([5, 3, 2, -4]))\n",
    "head2 = createList(np.array([-4, -6, 1]))\n",
    "\n",
    "print(\"Linked List 1:\")\n",
    "printLinkedList(head1)\n",
    "print(\"Linked List 2:\")\n",
    "printLinkedList(head2)\n",
    "\n",
    "head = alternate_merge(head1, head2)\n",
    "print(\"Merged Linked List:\")\n",
    "printLinkedList(head)    #This should print    5 → -4 -> 3 → -6 -> 2 -> 1 -> -4\n",
    "\n",
    "\n",
    "print('==============Test Case 3=============')\n",
    "head1 = createList(np.array([4, 2, -2, -4]))\n",
    "head2 = createList(np.array([8, 6, 5, -3]))\n",
    "\n",
    "print(\"Linked List 1:\")\n",
    "printLinkedList(head1)\n",
    "print(\"Linked List 2:\")\n",
    "printLinkedList(head2)\n",
    "\n",
    "head = alternate_merge(head1, head2)\n",
    "print(\"Merged Linked List:\")\n",
    "printLinkedList(head)    #This should print   4-> 8 → 2-> 6 → -2 → 5 → -4 -> -3\n"
   ]
  },
  {
   "cell_type": "markdown",
   "metadata": {
    "id": "g8b2lKE5o4HE"
   },
   "source": [
    "Task 6: Sum of Nodes"
   ]
  },
  {
   "cell_type": "code",
   "execution_count": null,
   "metadata": {
    "colab": {
     "base_uri": "https://localhost:8080/"
    },
    "id": "AeUE5H0so6oP",
    "outputId": "7fbea672-ee45-4f21-f4e1-6b547990dc79"
   },
   "outputs": [
    {
     "name": "stdout",
     "output_type": "stream",
     "text": [
      "==============Test Case 1=============\n",
      "Sum of Nodes: 4\n",
      "Accepted\n",
      "\n"
     ]
    }
   ],
   "source": [
    "#Task 6\n",
    "def sum_dist(head, dist):\n",
    "    sum = 0\n",
    "\n",
    "    for i in dist:\n",
    "        temp = head\n",
    "        idx = 0\n",
    "\n",
    "        while temp!=None and idx < i:\n",
    "            temp = temp.next\n",
    "            idx += 1\n",
    "\n",
    "        if temp and idx==i:\n",
    "            sum += temp.elem\n",
    "        else:\n",
    "            sum += 0\n",
    "\n",
    "    return sum\n",
    "\n",
    "\n",
    "\n",
    "\n",
    "\n",
    "print('==============Test Case 1=============')\n",
    "LL1 = createList(np.array([10,16,-5,9,3,4]))\n",
    "dist = np.array([2,0,5,2,8])\n",
    "returned_value = sum_dist(LL1, dist)\n",
    "print(f'Sum of Nodes: {returned_value}') #This should print Sum of Nodes: 4\n",
    "unittest.output_test(returned_value, 4)\n",
    "print()"
   ]
  },
  {
   "cell_type": "markdown",
   "metadata": {
    "id": "pNihvj0mqZGx"
   },
   "source": [
    "Bonus Task: ID Generator"
   ]
  },
  {
   "cell_type": "code",
   "execution_count": 9,
   "metadata": {
    "colab": {
     "base_uri": "https://localhost:8080/"
    },
    "id": "RxtRlCVCqcHV",
    "outputId": "e4db32f6-8c7a-48c0-c0ac-e268ab743288"
   },
   "outputs": [
    {
     "name": "stdout",
     "output_type": "stream",
     "text": [
      "==============Test Case 1=============\n",
      "Linked List 1:\n",
      "0-->3-->2-->2\n",
      "\n",
      "Linked List 2:\n",
      "5-->2-->2-->1\n",
      "\n",
      "Linked List 3:\n",
      "4-->3-->2-->1\n",
      "\n",
      "New ID:\n",
      "2-->2-->3-->0-->9-->5-->4-->2\n",
      "\n",
      "==============Test Case 2=============\n",
      "Linked List 1:\n",
      "0-->3-->9-->1\n",
      "\n",
      "Linked List 2:\n",
      "3-->6-->5-->7\n",
      "\n",
      "Linked List 3:\n",
      "2-->4-->3-->8\n",
      "\n",
      "New ID:\n",
      "1-->9-->3-->0-->5-->0-->8-->5\n",
      "\n"
     ]
    }
   ],
   "source": [
    "# Task bonus\n",
    "\n",
    "def idGenerator(list1, list2, list3):\n",
    "\n",
    "    def reverse_list(head):\n",
    "        prev = None\n",
    "        current = head\n",
    "        while current:\n",
    "\n",
    "            next_node = current.next\n",
    "            current.next = prev\n",
    "            prev = current\n",
    "            current = next_node\n",
    "        return prev\n",
    "\n",
    "    list1 = reverse_list(list1)\n",
    "\n",
    "    sid_h = None\n",
    "    sid_t = None\n",
    "\n",
    "    for _ in range(4):\n",
    "\n",
    "\n",
    "        if list1:\n",
    "            new_node = Node(list1.elem)\n",
    "            if sid_t:\n",
    "                sid_t.next = new_node\n",
    "                sid_t = new_node\n",
    "            else:\n",
    "                sid_h = new_node\n",
    "                sid_t = new_node\n",
    "            list1 = list1.next\n",
    "\n",
    "    for _ in range(4):\n",
    "\n",
    "        if list2 and list3:\n",
    "\n",
    "            digit_sum = list2.elem + list3.elem\n",
    "\n",
    "            new_node = Node(digit_sum % 10)\n",
    "\n",
    "\n",
    "            if sid_t:\n",
    "\n",
    "                sid_t.next = new_node\n",
    "                sid_t = new_node\n",
    "            else:\n",
    "\n",
    "                sid_h = new_node\n",
    "                sid_t = new_node\n",
    "\n",
    "\n",
    "            list2 = list2.next\n",
    "            list3 = list3.next\n",
    "\n",
    "    return sid_h\n",
    "\n",
    "\n",
    "\n",
    "print('==============Test Case 1=============')\n",
    "head1 = createList(np.array([0,3,2,2]))\n",
    "head2 = createList(np.array([5,2,2,1]))\n",
    "head3 = createList(np.array([4,3,2,1]))\n",
    "\n",
    "print(\"Linked List 1:\")\n",
    "printLinkedList(head1)\n",
    "print(\"Linked List 2:\")\n",
    "printLinkedList(head2)\n",
    "print(\"Linked List 3:\")\n",
    "printLinkedList(head3)\n",
    "\n",
    "result = idGenerator(head1, head2, head3)\n",
    "print(\"New ID:\")\n",
    "printLinkedList(result)    #This should print  2 → 2 → 3 → 0 → 9 → 5 → 4 → 2\n",
    "\n",
    "\n",
    "print('==============Test Case 2=============')\n",
    "head1 = createList(np.array([0,3,9,1]))\n",
    "head2 = createList(np.array([3,6,5,7]))\n",
    "head3 = createList(np.array([2,4,3,8]))\n",
    "\n",
    "print(\"Linked List 1:\")\n",
    "printLinkedList(head1)\n",
    "print(\"Linked List 2:\")\n",
    "printLinkedList(head2)\n",
    "print(\"Linked List 3:\")\n",
    "printLinkedList(head3)\n",
    "\n",
    "result = idGenerator(head1, head2, head3)\n",
    "print(\"New ID:\")\n",
    "printLinkedList(result)    #This should print 1 → 9 → 3 → 0 → 5 → 0 → 8 → 5"
   ]
  },
  {
   "cell_type": "code",
   "execution_count": 12,
   "metadata": {
    "colab": {
     "base_uri": "https://localhost:8080/"
    },
    "id": "XL-vXlcoQqyb",
    "outputId": "6db50274-ccb1-43b7-d18d-28c59bc59cc3"
   },
   "outputs": [
    {
     "name": "stdout",
     "output_type": "stream",
     "text": [
      "==============Test Case 1=============\n",
      "Linked List 1:\n",
      "0-->3-->2-->2\n",
      "\n",
      "Linked List 2:\n",
      "5-->2-->2-->1\n",
      "\n",
      "Linked List 3:\n",
      "4-->3-->2-->1\n",
      "\n",
      "New ID:\n",
      "2-->2-->3-->0-->9-->5-->4-->2\n",
      "\n",
      "==============Test Case 2=============\n",
      "Linked List 1:\n",
      "0-->3-->9-->1\n",
      "\n",
      "Linked List 2:\n",
      "3-->6-->5-->7\n",
      "\n",
      "Linked List 3:\n",
      "2-->4-->3-->8\n",
      "\n",
      "New ID:\n",
      "1-->9-->3-->0-->5-->0-->8-->5\n",
      "\n"
     ]
    }
   ],
   "source": [
    "def idGenerator(head1, head2, head3):\n",
    "    dummy = Node(None)\n",
    "    ID = dummy\n",
    "\n",
    "    prev = None\n",
    "    temp = head1\n",
    "\n",
    "    while temp is not None:\n",
    "        next_node = temp.next\n",
    "        temp.next = prev\n",
    "        prev = temp\n",
    "        temp = next_node\n",
    "\n",
    "    while prev is not None:\n",
    "        ID.next = Node(prev.elem)\n",
    "        ID = ID.next\n",
    "        prev = prev.next\n",
    "\n",
    "    while head2 is not None and head3 is not None:\n",
    "        sum = (head2.elem + head3.elem) % 10\n",
    "        ID.next = Node(sum)\n",
    "        ID = ID.next\n",
    "\n",
    "        head2 = head2.next\n",
    "        head3 = head3.next\n",
    "\n",
    "    return dummy.next\n",
    "\n",
    "\n",
    "\n",
    "print('==============Test Case 1=============')\n",
    "head1 = createList(np.array([0,3,2,2]))\n",
    "head2 = createList(np.array([5,2,2,1]))\n",
    "head3 = createList(np.array([4,3,2,1]))\n",
    "\n",
    "print(\"Linked List 1:\")\n",
    "printLinkedList(head1)\n",
    "print(\"Linked List 2:\")\n",
    "printLinkedList(head2)\n",
    "print(\"Linked List 3:\")\n",
    "printLinkedList(head3)\n",
    "\n",
    "result = idGenerator(head1, head2, head3)\n",
    "print(\"New ID:\")\n",
    "printLinkedList(result)    #This should print  2 → 2 → 3 → 0 → 9 → 5 → 4 → 2\n",
    "\n",
    "\n",
    "print('==============Test Case 2=============')\n",
    "head1 = createList(np.array([0,3,9,1]))\n",
    "head2 = createList(np.array([3,6,5,7]))\n",
    "head3 = createList(np.array([2,4,3,8]))\n",
    "\n",
    "print(\"Linked List 1:\")\n",
    "printLinkedList(head1)\n",
    "print(\"Linked List 2:\")\n",
    "printLinkedList(head2)\n",
    "print(\"Linked List 3:\")\n",
    "printLinkedList(head3)\n",
    "\n",
    "result = idGenerator(head1, head2, head3)\n",
    "print(\"New ID:\")\n",
    "printLinkedList(result)    #This should print 1 → 9 → 3 → 0 → 5 → 0 → 8 → 5"
   ]
  }
 ],
 "metadata": {
  "colab": {
   "provenance": []
  },
  "kernelspec": {
   "display_name": "Python 3",
   "name": "python3"
  },
  "language_info": {
   "codemirror_mode": {
    "name": "ipython",
    "version": 3
   },
   "file_extension": ".py",
   "mimetype": "text/x-python",
   "name": "python",
   "nbconvert_exporter": "python",
   "pygments_lexer": "ipython3",
   "version": "3.11.9"
  }
 },
 "nbformat": 4,
 "nbformat_minor": 0
}
