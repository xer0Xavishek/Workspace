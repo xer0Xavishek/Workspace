{
  "nbformat": 4,
  "nbformat_minor": 0,
  "metadata": {
    "colab": {
      "provenance": []
    },
    "kernelspec": {
      "name": "python3",
      "display_name": "Python 3"
    },
    "language_info": {
      "name": "python"
    }
  },
  "cells": [
    {
      "cell_type": "markdown",
      "source": [
        "##Stack"
      ],
      "metadata": {
        "id": "60CVQBVjpP5F"
      }
    },
    {
      "cell_type": "code",
      "source": [
        "class Node:\n",
        "  def __init__(self,elem,next):\n",
        "    self.elem=elem\n",
        "    self.next=next\n",
        ""
      ],
      "metadata": {
        "id": "KFNzXhW7pXEm"
      },
      "execution_count": null,
      "outputs": []
    },
    {
      "cell_type": "code",
      "source": [
        "class Stack:\n",
        "  def __init__(self):\n",
        "    self.top =None\n",
        "  def push(self,elem):\n",
        "    if self.top == None:\n",
        "      n=Node(elem,None)\n",
        "      self.top=n\n",
        "    else:\n",
        "      n=Node(elem,None)\n",
        "      n.next=self.top\n",
        "      self.top=n\n",
        "  def pop(self):\n",
        "    if self.top == None:\n",
        "      print('stack underflow')\n",
        "    else:\n",
        "      popped=self.top\n",
        "      self.top=self.top.next\n",
        "      return popped.elem\n",
        "  def peek(self):\n",
        "    if self.top==None:\n",
        "      print('stack underflow')\n",
        "    else:\n",
        "      return self.top.elem\n",
        "  def isEmpty(self):\n",
        "    if self.top == None:\n",
        "      return True\n",
        "    else:\n",
        "      return False"
      ],
      "metadata": {
        "id": "rqeUAKmOpO2E"
      },
      "execution_count": null,
      "outputs": []
    },
    {
      "cell_type": "code",
      "source": [
        "##Question 03\n",
        "def string_reverse(string):\n",
        "  string2=\"\"\n",
        "  st=Stack()\n",
        "  i=0\n",
        "  lenght = len(string)\n",
        "  while i< lenght:\n",
        "    st.push(string[i])\n",
        "    i+=1\n",
        "  i2=0\n",
        "  while i2< lenght:\n",
        "    popped=st.pop()\n",
        "    string2+=popped\n",
        "    i2+=1\n",
        "  return string2\n",
        "a=string_reverse(\"CSE220\")\n",
        "print(a)"
      ],
      "metadata": {
        "id": "F7Ln9J8SpV4X"
      },
      "execution_count": null,
      "outputs": []
    },
    {
      "cell_type": "code",
      "source": [
        "##Question 4\n",
        "def check_palindrome(string):\n",
        "  string2=\"\"\n",
        "  st=Stack()\n",
        "  i=0\n",
        "  lenght = len(string)\n",
        "  while i< lenght:\n",
        "    st.push(string[i])\n",
        "    i+=1\n",
        "  i2=0\n",
        "  while i2< lenght:\n",
        "    popped=st.pop()\n",
        "    string2+=popped\n",
        "    i2+=1\n",
        "  if string2 == string:\n",
        "    return True\n",
        "  else:\n",
        "    return False\n",
        "a=check_palindrome('MADAM')\n",
        "print(a)\n",
        "b=check_palindrome(\"AFIFA\")\n",
        "print(b)"
      ],
      "metadata": {
        "id": "XafhoRPapfIC"
      },
      "execution_count": null,
      "outputs": []
    }
  ]
}