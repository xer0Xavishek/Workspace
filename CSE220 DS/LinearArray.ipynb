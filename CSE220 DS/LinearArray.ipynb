{
 "cells": [
  {
   "cell_type": "code",
   "execution_count": 2,
   "metadata": {
    "id": "LRQ0KRx3iB3_"
   },
   "outputs": [],
   "source": [
    "#Importing library\n",
    "import numpy as np"
   ]
  },
  {
   "cell_type": "code",
   "execution_count": null,
   "metadata": {
    "id": "-IKWr-P2ietR"
   },
   "outputs": [],
   "source": [
    "#Initializing lists\n",
    "\n",
    "a = [1, 2, 3, 4, 5]\n",
    "print(a)\n",
    "print(type(a))"
   ]
  },
  {
   "cell_type": "code",
   "execution_count": null,
   "metadata": {
    "id": "YuC5OHkPkQI1"
   },
   "outputs": [],
   "source": [
    "a = [1, 2.0, \"a\", 3]\n",
    "print(a) #storing different datatypes is also possible in list"
   ]
  },
  {
   "cell_type": "code",
   "execution_count": null,
   "metadata": {
    "id": "rk0dTfcniInE"
   },
   "outputs": [],
   "source": [
    "#Initializing a numpy array using a list\n",
    "\n",
    "a = np.array([1, 2, 3, 4, 5])\n",
    "print(a)\n",
    "print(type(a))"
   ]
  },
  {
   "cell_type": "code",
   "execution_count": null,
   "metadata": {
    "id": "Fl83JZ-7iLPu"
   },
   "outputs": [],
   "source": [
    "#Initializing a numpy array using a zeros\n",
    "\n",
    "a = np.zeros(3)\n",
    "print(a) #datatype by default is float"
   ]
  },
  {
   "cell_type": "code",
   "execution_count": null,
   "metadata": {
    "id": "vJ3FvD9rs0Qz"
   },
   "outputs": [],
   "source": [
    "a = np.zeros(3, dtype = int)\n",
    "print(a) #dataype will be int"
   ]
  },
  {
   "cell_type": "code",
   "execution_count": null,
   "metadata": {
    "id": "x8VWeUsOr0Ex"
   },
   "outputs": [],
   "source": [
    "#Initializing a numpy using None\n",
    "\n",
    "a = np.array([None]*5)\n",
    "print(a) #in this method, you can initialize a numpy array with any values"
   ]
  },
  {
   "cell_type": "code",
   "execution_count": null,
   "metadata": {
    "id": "qVrZVXFnkYwx"
   },
   "outputs": [],
   "source": [
    "a = np.array([1, 2.0, 3])\n",
    "print(a) #check the datatype of printed array"
   ]
  },
  {
   "cell_type": "code",
   "execution_count": null,
   "metadata": {
    "id": "2xEXSjKMmJ0x"
   },
   "outputs": [],
   "source": [
    "a = np.array([1, \"2\", 3])\n",
    "print(a) #check the datatype of printed array"
   ]
  },
  {
   "cell_type": "code",
   "execution_count": null,
   "metadata": {
    "id": "4Pc0P2RIsI4p"
   },
   "outputs": [],
   "source": [
    "#Accessing array through index\n",
    "a = np.array([1, 2, 3, 4, 5])\n",
    "print(a[2])\n",
    "\n",
    "a[2] = 6 #a[2] will be updated from 3 to 6\n",
    "print(a)"
   ]
  },
  {
   "cell_type": "code",
   "execution_count": null,
   "metadata": {
    "id": "pDSdC05jsa4V"
   },
   "outputs": [],
   "source": [
    "#Finding length of array\n",
    "print(len(a))\n",
    "print(a.shape)\n",
    "print(a.shape[0])"
   ]
  },
  {
   "cell_type": "code",
   "execution_count": null,
   "metadata": {
    "id": "DZYCvMWjsLuq"
   },
   "outputs": [],
   "source": [
    "#Iterating through array\n",
    "for i in a:\n",
    "  print(i) #regular for loop, checks membership"
   ]
  },
  {
   "cell_type": "code",
   "execution_count": null,
   "metadata": {
    "id": "uLIcENz_spI0"
   },
   "outputs": [],
   "source": [
    "for i in range(len(a)):\n",
    "  print(a[i]) #ranged for loop, iterates through the index"
   ]
  },
  {
   "cell_type": "code",
   "execution_count": null,
   "metadata": {
    "id": "kLzdGNNRtrI4"
   },
   "outputs": [],
   "source": [
    "#resizing an array\n",
    "a = np.array([1, 2, 3, 4, 5, 6])\n",
    "\n",
    "b = np.array([None]*8) #initializing a new array with length 8 and all None values\n",
    "for i in range(len(a)):\n",
    "  b[i] = a[i]\n",
    "print(b)"
   ]
  },
  {
   "cell_type": "code",
   "execution_count": null,
   "metadata": {
    "id": "ab-CwDjSuF3I"
   },
   "outputs": [],
   "source": [
    "#copying an array (pass by reference)\n",
    "\n",
    "arr1 = np.array([1, 2, 3, 4, 5, 6])\n",
    "arr2 = arr1\n",
    "print(arr2)"
   ]
  },
  {
   "cell_type": "code",
   "execution_count": null,
   "metadata": {
    "id": "U_CrVJncvVW7"
   },
   "outputs": [],
   "source": [
    "print(id(arr1)) #prints the memory location of arr1\n",
    "print(id(arr2)) #prints the memory location of arr2"
   ]
  },
  {
   "cell_type": "code",
   "execution_count": null,
   "metadata": {
    "id": "dpfLRbOevcN0"
   },
   "outputs": [],
   "source": [
    "arr2 = np.zeros(len(arr1))\n",
    "\n",
    "for i in range(arr1[i]):\n",
    "  arr2[i] = arr1[i]\n",
    "\n",
    "print(arr2)"
   ]
  },
  {
   "cell_type": "code",
   "execution_count": 8,
   "metadata": {
    "id": "GIoef7lmxQZ_"
   },
   "outputs": [
    {
     "name": "stdout",
     "output_type": "stream",
     "text": [
      "[1 2 3 4]\n",
      "for i =  1 array =  [2 2 3 4]\n",
      "for i =  2 array =  [2 3 3 4]\n",
      "for i =  3 array =  [2 3 4 4]\n",
      "After left shifting, array a will look like: [2 3 4 0]\n"
     ]
    }
   ],
   "source": [
    "#shifting array left\n",
    "import numpy as np\n",
    "def shiftLeft(a):\n",
    "  for i in range(1, len(a)):\n",
    "    a[i-1] = a[i]\n",
    "    print(\"for i = \", i, \"array = \", a)\n",
    "  a[len(a)-1] = 0\n",
    "  return a\n",
    "\n",
    "a = np.array([1, 2, 3, 4])\n",
    "print(a)\n",
    "\n",
    "print(f\"After left shifting, array a will look like: {shiftLeft(a)}\")"
   ]
  },
  {
   "cell_type": "code",
   "execution_count": 9,
   "metadata": {
    "colab": {
     "base_uri": "https://localhost:8080/"
    },
    "id": "_GAUlkOcx2jl",
    "outputId": "66e4a92c-0b59-4f28-dd5c-4cbca9dea967"
   },
   "outputs": [
    {
     "name": "stdout",
     "output_type": "stream",
     "text": [
      "[1 2 3 4]\n",
      "for i =  3 array =  [1 2 3 3]\n",
      "for i =  2 array =  [1 2 2 3]\n",
      "for i =  1 array =  [1 1 2 3]\n",
      "After right shifting, array a will look like: [0 1 2 3]\n"
     ]
    }
   ],
   "source": [
    "#shifting array right\n",
    "\n",
    "def shiftRight(a):\n",
    "  for i in range(len(a)-1,0,-1):\n",
    "    a[i]=a[i-1]\n",
    "    print(\"for i = \", i, \"array = \", a)\n",
    "  a[0]=0\n",
    "  return a\n",
    "\n",
    "a = np.array([1, 2, 3, 4])\n",
    "print(a)\n",
    "print(f\"After right shifting, array a will look like: {shiftRight(a)}\")"
   ]
  },
  {
   "cell_type": "code",
   "execution_count": 4,
   "metadata": {
    "colab": {
     "base_uri": "https://localhost:8080/"
    },
    "id": "yhWoYxTWys4i",
    "outputId": "548a6f34-4390-4315-fd7b-16b277d2daab"
   },
   "outputs": [
    {
     "name": "stdout",
     "output_type": "stream",
     "text": [
      "[1 2 3 4]\n",
      "After left rotating, array a will look like: [2 3 4 1]\n"
     ]
    }
   ],
   "source": [
    "#rotating array left\n",
    "\n",
    "def rotateLeft(a):\n",
    "  temp=a[0]\n",
    "  for i in range(1,len(a)):\n",
    "    a[i-1]=a[i]\n",
    "  a[len(a)-1]=temp\n",
    "  return a\n",
    "\n",
    "a = np.array([1, 2, 3, 4])\n",
    "print(a)\n",
    "print(f\"After left rotating, array a will look like: {rotateLeft(a)}\")"
   ]
  },
  {
   "cell_type": "code",
   "execution_count": 12,
   "metadata": {
    "colab": {
     "base_uri": "https://localhost:8080/"
    },
    "id": "c4NDf6DNz2J8",
    "outputId": "52989ecb-5faf-44f2-a987-1964966ac1ec"
   },
   "outputs": [
    {
     "name": "stdout",
     "output_type": "stream",
     "text": [
      "[1 2 3 4]\n",
      "for i =  1 array =  [1 1 3 4]\n",
      "for i =  2 array =  [1 1 1 4]\n",
      "for i =  3 array =  [1 1 1 1]\n",
      "After wrong for loop right rotating, array a will look like: [4 1 1 1]\n"
     ]
    }
   ],
   "source": [
    "#rotate array right (wrong code)\n",
    "\n",
    "def rotateRight(a):\n",
    "  temp=a[len(a)-1]\n",
    "  for i in range(1,len(a)):\n",
    "    a[i]=a[i-1]\n",
    "    print(\"for i = \", i, \"array = \", a)\n",
    "  a[0]=temp\n",
    "  return a\n",
    "\n",
    "\n",
    "a = np.array([1, 2, 3, 4])\n",
    "print(a)\n",
    "print(f\"After wrong for loop right rotating, array a will look like: {rotateRight(a)}\")"
   ]
  },
  {
   "cell_type": "code",
   "execution_count": 14,
   "metadata": {},
   "outputs": [
    {
     "name": "stdout",
     "output_type": "stream",
     "text": [
      "[1 2 3 4]\n",
      "for i =  3 array =  [1 2 3 3]\n",
      "for i =  2 array =  [1 2 2 3]\n",
      "for i =  1 array =  [1 1 2 3]\n",
      "After right rotating, array a will look like: [4 1 2 3]\n"
     ]
    }
   ],
   "source": [
    "#rotate array right (correct code)\n",
    "def rotateRight(a):\n",
    "  temp=a[len(a)-1]\n",
    "  for i in range(len(a)-1,0,-1):\n",
    "    a[i]=a[i-1]\n",
    "    print(\"for i = \", i, \"array = \", a)\n",
    "  a[0]=temp\n",
    "  return a\n",
    "\n",
    "\n",
    "a = np.array([1, 2, 3, 4])\n",
    "print(a)\n",
    "print(f\"After right rotating, array a will look like: {rotateRight(a)}\")"
   ]
  },
  {
   "cell_type": "code",
   "execution_count": 6,
   "metadata": {
    "id": "D_QatSR_0Bqr"
   },
   "outputs": [
    {
     "name": "stdout",
     "output_type": "stream",
     "text": [
      "[1 2 3 4 5 9 0]\n"
     ]
    }
   ],
   "source": [
    "#insertion at end\n",
    "\n",
    "def insertAtEnd(arr, size, elem):\n",
    "  if size >= len(arr):\n",
    "    return \"Need to resize\"\n",
    "  arr[size] = elem\n",
    "  return arr\n",
    "\n",
    "a = np.array([1, 2, 3, 4, 5, 0, 0])\n",
    "print(insertAtEnd(a, 5, 9))"
   ]
  },
  {
   "cell_type": "code",
   "execution_count": 16,
   "metadata": {
    "id": "0pr0lgYzRSdA"
   },
   "outputs": [
    {
     "name": "stdout",
     "output_type": "stream",
     "text": [
      "[1 2 3 4 5 0 0] before\n",
      "[1 2 3 9 4 5 0]\n"
     ]
    }
   ],
   "source": [
    "#insertion at any other place\n",
    "import numpy as np\n",
    "def insertAtOtherPlace(arr, size, elem, index):\n",
    "  \"\"\"\n",
    "  Inserts an element at a specified index in the array.\n",
    "  Parameters:\n",
    "  arr (list): The array in which the element is to be inserted.\n",
    "  size (int): The current number of elements in the array.\n",
    "  elem (any): The element to be inserted.\n",
    "  index (int): The position at which the element is to be inserted.\n",
    "  Returns:\n",
    "  list: The array with the element inserted if successful.\n",
    "  str: An error message if the insertion is not possible or resizing is needed.\n",
    "  Notes:\n",
    "  - If the index is out of bounds (less than 0 or greater than size), the function returns \"Insertion not possible\".\n",
    "  - If the array is full (size is greater than or equal to the length of the array), the function returns \"Need to resize\".\n",
    "  - The function shifts elements to the right to make space for the new element.\n",
    "  \"\"\"\n",
    "  if index < 0 or index > size:\n",
    "    return \"Insertion not possible\"\n",
    "  if size >= len(arr):\n",
    "    return \"Need to resize\"\n",
    "  \n",
    "\n",
    "  for i in range(size, index, -1):\n",
    "    arr[i] = arr[i-1]\n",
    "  arr[index] = elem\n",
    "  return arr\n",
    "a = np.array([1, 2, 3, 4, 5, 0, 0])\n",
    "print(a,\"before\")\n",
    "print(insertAtOtherPlace(a, 5, 9, 3))"
   ]
  },
  {
   "cell_type": "code",
   "execution_count": null,
   "metadata": {
    "id": "a9lyg7b_SEGB"
   },
   "outputs": [
    {
     "name": "stdout",
     "output_type": "stream",
     "text": [
      "[1 2 3 4 0]\n"
     ]
    }
   ],
   "source": [
    "#deletion at end\n",
    "\n",
    "def deleteAtEnd(arr, size):\n",
    "  if size<=0:\n",
    "    return \"Deletion not possible\"\n",
    "  else:\n",
    "    arr[size-1]=0\n",
    "  return arr\n",
    "\n",
    "a = np.array([1, 2, 3, 4, 5])\n",
    "print(deleteAtEnd(a, 5))"
   ]
  },
  {
   "cell_type": "code",
   "execution_count": 22,
   "metadata": {
    "id": "Knb10QMfSVye"
   },
   "outputs": [
    {
     "name": "stdout",
     "output_type": "stream",
     "text": [
      "[1 2 3 4 5] before\n",
      "after [1 2 4 5 0]\n"
     ]
    }
   ],
   "source": [
    "#delete at any place\n",
    "import numpy as np\n",
    "def deleteAtOtherPlace(arr, size, index):\n",
    "    if size<=0:\n",
    "        return \"Deletion not possible\"\n",
    "    if index < 0 or index >= size:\n",
    "        return \"Deletion not possible\"\n",
    "    for i in range(index+1, size):\n",
    "        arr[i-1] = arr[i]\n",
    "    arr[size-1] = 0\n",
    "    return arr\n",
    "\n",
    "a = np.array([1, 2, 3, 4, 5])\n",
    "print(a, \"before\")\n",
    "\n",
    "print(\"after\",deleteAtOtherPlace(a, 5, 2))"
   ]
  },
  {
   "cell_type": "code",
   "execution_count": null,
   "metadata": {
    "id": "g7HipSDQnoNO"
   },
   "outputs": [],
   "source": [
    "#linear searching\n",
    "\n",
    "def linearSearch(arr, size, key):\n",
    "  found = False\n",
    "  for i in range(size):\n",
    "    if arr[i] == key:\n",
    "      found = True\n",
    "      break\n",
    "  if found == True:\n",
    "    return 'Element Found!'\n",
    "  else:\n",
    "    return 'Not found :('\n",
    "\n",
    "a = np.array([5, 6, 13, 2, 9])\n",
    "print(linearSearch(a, 5, 13))\n",
    "print(linearSearch(a, 5, 23))"
   ]
  },
  {
   "cell_type": "code",
   "execution_count": 33,
   "metadata": {
    "id": "wEGs38nBpIVp"
   },
   "outputs": [
    {
     "name": "stdout",
     "output_type": "stream",
     "text": [
      "Element Found! idx: 7\n"
     ]
    }
   ],
   "source": [
    "#binary searching\n",
    "\n",
    "def binarySearch(arr, key):\n",
    "  low = 0\n",
    "  high = len(arr)-1\n",
    "  while low <= high:\n",
    "    mid = (low + high)//2\n",
    "\n",
    "\n",
    "\n",
    "\n",
    "    if arr[mid] == key:\n",
    "      return f'Element Found! idx: {mid}'\n",
    "    \n",
    "    elif arr[mid] < key:\n",
    "\n",
    "      low = mid + 1\n",
    "\n",
    "\n",
    "    elif arr[mid] > key:\n",
    "\n",
    "      high = mid - 1\n",
    "\n",
    "\n",
    "  return 'Not found :('\n",
    "\n",
    "a = np.array([1, 2, 3, 4, 5, 6, 7, 8, 9,10, 11])\n",
    "print(binarySearch(a, 8))\n"
   ]
  },
  {
   "cell_type": "code",
   "execution_count": null,
   "metadata": {
    "id": "4jK0TS60U0ya"
   },
   "outputs": [
    {
     "name": "stdout",
     "output_type": "stream",
     "text": [
      "[ 9  2 13  6  5]\n"
     ]
    }
   ],
   "source": [
    "#array reversal  with while loop\n",
    "\n",
    "def reverseArrayInPlace(arr):\n",
    "  i = 0\n",
    "  j = len(arr)-1\n",
    "  \n",
    "  while i < j:\n",
    "    arr[i], arr[j] = arr[j], arr[i]\n",
    "    \n",
    "    i += 1\n",
    "    j -= 1\n",
    "  return arr\n",
    "\n",
    "\n",
    "a = np.array([5, 6, 13, 2, 9])\n",
    "print(reverseArrayInPlace(a))"
   ]
  },
  {
   "cell_type": "code",
   "execution_count": null,
   "metadata": {},
   "outputs": [],
   "source": [
    "#array reversal in place with for loop\n",
    "def reverseArrayInPlace(arr):\n",
    "  n = len(arr)\n",
    "  for i in range(n // 2):\n",
    "    arr[i], arr[n - i - 1] = arr[n - i - 1], arr[i]\n",
    "  return arr\n",
    "\n",
    "\n",
    "a = np.array([5, 6, 13, 2, 9])\n",
    "print(reverseArrayInPlace(a))"
   ]
  },
  {
   "cell_type": "code",
   "execution_count": null,
   "metadata": {},
   "outputs": [
    {
     "name": "stdout",
     "output_type": "stream",
     "text": [
      "[10  0 20  0 30  0 40  0 50  0]\n"
     ]
    }
   ],
   "source": [
    "#\n",
    "\"\"\"\n",
    "This script initializes an array `arr` with integer values and creates a new array `new_arr` of zeros with a length of 10.\n",
    "It then copies the elements of `arr` into `new_arr`, placing each element at every second position, starting from the first position.\n",
    "Variables:\n",
    "    arr (numpy.ndarray): An array of integers with values [10, 20, 30, 40, 50].\n",
    "    new_arr (numpy.ndarray): An array of zeros with a length of 10.\n",
    "    j (int): An index variable used to place elements in `new_arr`.\n",
    "Process:\n",
    "    - Iterate over each element in `arr`.\n",
    "    - Assign the current element of `arr` to the `j`-th position of `new_arr`.\n",
    "    - Increment `j` by 2 to place the next element at every second position.\n",
    "Output:\n",
    "    Prints the `new_arr` array after copying elements from `arr`.\n",
    "\"\"\"\n",
    "\n",
    "arr=np.array([10,20,30,40,50], dtype=int)\n",
    "new_arr=np.zeros(10,dtype=int)\n",
    "j=0\n",
    "for i in range(len(arr)):\n",
    "    \n",
    "    new_arr[j]=arr[i] \n",
    "    j+=2\n",
    "\n",
    "\n",
    "print(new_arr)"
   ]
  },
  {
   "cell_type": "code",
   "execution_count": null,
   "metadata": {},
   "outputs": [
    {
     "name": "stdout",
     "output_type": "stream",
     "text": [
      "[1 2 3 4 5 6 7 8]\n"
     ]
    }
   ],
   "source": [
    "#Union OF two array\n",
    "import numpy as np\n",
    "def union_two(a,b):\n",
    "    result=np.zeros(len(a)+len(b),dtype=int)\n",
    "    res_idx=0\n",
    "\n",
    "\n",
    "    for i in range(len(a)):\n",
    "        is_unique=True\n",
    "        for j in range(res_idx):\n",
    "            if result[j]==a[i]:\n",
    "                is_unique=False\n",
    "                break\n",
    "        if is_unique:\n",
    "            result[res_idx]=a[i]\n",
    "            res_idx+=1\n",
    "\n",
    "    for i in range(len(b)):\n",
    "        is_unique=True\n",
    "        for j in range(res_idx):\n",
    "            if result[j]==b[i]:\n",
    "                is_unique=False\n",
    "                break\n",
    "        if is_unique:\n",
    "            result[res_idx]=b[i]\n",
    "            res_idx+=1\n",
    "\n",
    "    return result[:res_idx]\n",
    "\n",
    "a=np.array([1,2,3,4,5])\n",
    "b=np.array([4,5,6,7,8])\n",
    "\n",
    "print(union_two(a,b))\n",
    "#"
   ]
  },
  {
   "cell_type": "code",
   "execution_count": 7,
   "metadata": {},
   "outputs": [
    {
     "name": "stdout",
     "output_type": "stream",
     "text": [
      "[ 1  3  5  7  9 -8 -6 -4 -2]\n"
     ]
    }
   ],
   "source": [
    "# transfer negative elements to the end of the array\n",
    "import numpy as np\n",
    "\n",
    "\n",
    "def negToLast(arr):\n",
    "    result = np.zeros(len(arr), dtype=int)\n",
    "\n",
    "    pos_idx=0\n",
    "    neg_idx=len(arr)-1\n",
    "\n",
    "    for i in range(len(arr)):\n",
    "        if arr[i]>=0:\n",
    "            result[pos_idx]=arr[i]\n",
    "            pos_idx+=1\n",
    "        else:\n",
    "            result[neg_idx]=arr[i]\n",
    "            neg_idx-=1\n",
    "\n",
    "    return result\n",
    "\n",
    "arr=np.array([1,-2,3,-4,5,-6,7,-8,9])\n",
    "print(negToLast(arr))\n"
   ]
  },
  {
   "cell_type": "code",
   "execution_count": 1,
   "metadata": {},
   "outputs": [
    {
     "name": "stdout",
     "output_type": "stream",
     "text": [
      "Current seating arrangement:\n",
      "A B C D E\n",
      "F G H I J\n",
      "K L M N O\n",
      "P Q R S T\n",
      "U V W X Y\n",
      "Z AA BB CC DD\n",
      "\n",
      "U V W X Y\n",
      "Z AA BB CC DD\n",
      "A B C D E\n",
      "F G H I J\n",
      "K L M N O\n",
      "P Q R S T\n",
      "\n",
      "Your friend AA will be on row 2\n"
     ]
    }
   ],
   "source": [
    "import numpy as np\n",
    "\n",
    "# Function to print the matrix in a readable format\n",
    "def print_matrix(seat_status):\n",
    "    for row in seat_status:\n",
    "        print(' '.join(row))\n",
    "\n",
    "# Function to rotate the seating rows based on the exam week\n",
    "def row_rotation(exam_week, seat_status):\n",
    "    # Number of rows\n",
    "    num_rows = len(seat_status)\n",
    "    \n",
    "    # Calculate the new starting row after the exam week\n",
    "    shift = exam_week - 1  # Shift rows based on exam week (Week 1 -> shift = 0)\n",
    "    rotated_seat_status = np.roll(seat_status, shift, axis=0)  # Roll rows up\n",
    "    \n",
    "    # Print the rotated seating arrangement\n",
    "    print_matrix(rotated_seat_status)\n",
    "    print()\n",
    "    \n",
    "    # Find the row where \"AA\" will be seated\n",
    "    for i, row in enumerate(rotated_seat_status):\n",
    "        if 'AA' in row:\n",
    "            return i + 1  # Return the row number (1-based index)\n",
    "\n",
    "# Example seat status array\n",
    "seat_status = np.array([\n",
    "    ['A', 'B', 'C', 'D', 'E'],\n",
    "    ['F', 'G', 'H', 'I', 'J'],\n",
    "    ['K', 'L', 'M', 'N', 'O'],\n",
    "    ['P', 'Q', 'R', 'S', 'T'],\n",
    "    ['U', 'V', 'W', 'X', 'Y'],\n",
    "    ['Z', 'AA', 'BB', 'CC', 'DD']\n",
    "])\n",
    "\n",
    "# Exam week input\n",
    "exam_week = 3\n",
    "\n",
    "# Print the current seating arrangement\n",
    "print(\"Current seating arrangement:\")\n",
    "print_matrix(seat_status)\n",
    "print()\n",
    "\n",
    "# Call the row_rotation function to get the updated row\n",
    "row_number = row_rotation(exam_week, seat_status)\n",
    "\n",
    "# Print the row where \"AA\" will be seated\n",
    "print(f'Your friend AA will be on row {row_number}')\n"
   ]
  }
 ],
 "metadata": {
  "colab": {
   "provenance": []
  },
  "kernelspec": {
   "display_name": "Python 3",
   "name": "python3"
  },
  "language_info": {
   "codemirror_mode": {
    "name": "ipython",
    "version": 3
   },
   "file_extension": ".py",
   "mimetype": "text/x-python",
   "name": "python",
   "nbconvert_exporter": "python",
   "pygments_lexer": "ipython3",
   "version": "3.11.9"
  }
 },
 "nbformat": 4,
 "nbformat_minor": 0
}
