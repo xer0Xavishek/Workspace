{
 "cells": [
  {
   "cell_type": "markdown",
   "metadata": {
    "id": "Pckf0-cjn8uN"
   },
   "source": [
    "##Linear Array"
   ]
  },
  {
   "cell_type": "code",
   "execution_count": 2,
   "metadata": {
    "id": "-aXD6f8ekJw-"
   },
   "outputs": [],
   "source": [
    "import numpy as np"
   ]
  },
  {
   "cell_type": "code",
   "execution_count": 2,
   "metadata": {
    "id": "n-oMYeZBjiA6"
   },
   "outputs": [
    {
     "name": "stdout",
     "output_type": "stream",
     "text": [
      "[5 8 4 5 6 4 3 2 1]\n"
     ]
    }
   ],
   "source": [
    "##reverse out of place\n",
    "def reverseArrayOutOfPlace(arr):\n",
    "  revArr=[None] * len(arr) # create an array of None values of same length as arr\n",
    "  i=0 \n",
    "  j=len(arr)-1 # j is the last index of arr\n",
    "  while i < len(arr): # \n",
    "    revArr[i] =arr[j] \n",
    "    i+=1\n",
    "    j-=1\n",
    "  return np.array(revArr)\n",
    "a=reverseArrayOutOfPlace(np.array([1,2,3,4,6,5,4,8,5]))\n",
    "\n",
    "\n",
    "print(a)"
   ]
  },
  {
   "cell_type": "code",
   "execution_count": 4,
   "metadata": {},
   "outputs": [
    {
     "name": "stdout",
     "output_type": "stream",
     "text": [
      "[5 8 4 5 6 4 3 2 1]\n"
     ]
    }
   ],
   "source": [
    "def reverseArrayOutOfPlace(arr):\n",
    "    reversed=[0]*len(arr)\n",
    "    for i in range(len(arr)):# using for loop to iterate through the array\n",
    "        reversed[i]=arr[len(arr)-1-i]\n",
    "\n",
    "    return np.array(reversed)\n",
    "\n",
    "\n",
    "a=reverseArrayOutOfPlace(np.array([1,2,3,4,6,5,4,8,5]))\n",
    "\n",
    "\n",
    "print(a)"
   ]
  },
  {
   "cell_type": "code",
   "execution_count": 4,
   "metadata": {
    "id": "dH5bYUhljtO9"
   },
   "outputs": [
    {
     "name": "stdout",
     "output_type": "stream",
     "text": [
      "[5 8 4 5 6 5 4 8 5]\n"
     ]
    }
   ],
   "source": [
    "## in place reverse\n",
    "def inplace_reverse(arr):\n",
    "  i=0\n",
    "  j=len(arr)-1\n",
    "  while i < len(arr):\n",
    "    arr[i] = arr[j]\n",
    "    i+=1\n",
    "    j-=1\n",
    "  return arr\n",
    "a=inplace_reverse(np.array([1,2,3,4,6,5,4,8,5]))\n",
    "print(a)"
   ]
  },
  {
   "cell_type": "code",
   "execution_count": null,
   "metadata": {
    "id": "7CpURg9kjv-V"
   },
   "outputs": [],
   "source": [
    "#left shift\n",
    "def leftShift(arr):\n",
    "  i=0\n",
    "  while i<len(arr)-1:\n",
    "    arr[i]=arr[i+1]\n",
    "    i+=1\n",
    "  arr[len(arr)-1]=None\n",
    "  return arr\n",
    "A=leftShift([1,2,5,48,6,5,3,5,6,2,5,3,2,5,3,5,3,5,3])\n",
    "B=leftShift(A)\n",
    "print(A)\n",
    "\n"
   ]
  },
  {
   "cell_type": "code",
   "execution_count": null,
   "metadata": {
    "id": "lsrxKxpIjxxF"
   },
   "outputs": [],
   "source": [
    "#right shift\n",
    "def rightShift(arr):\n",
    "  i=len(arr)-1\n",
    "  while i > 0:\n",
    "    arr[i]=arr[i-1]\n",
    "    i-=1\n",
    "\n",
    "  arr[0]=None\n",
    "  return arr\n",
    "A=rightShift([1,2,5,48,6,5,3,5,6,2,5,3,2,5,3,5,3,5,3])\n",
    "print(A)"
   ]
  },
  {
   "cell_type": "code",
   "execution_count": 1,
   "metadata": {
    "colab": {
     "base_uri": "https://localhost:8080/"
    },
    "id": "aQjSIwUzj0O1",
    "outputId": "c55d7bcf-1467-4bde-ba72-a2f28be480f7"
   },
   "outputs": [
    {
     "name": "stdout",
     "output_type": "stream",
     "text": [
      "[2, 5, 48, 6, 5, 3, 5, 6, 2, 5, 3, 2, 5, 3, 5, 3, 5, 3, 1]\n"
     ]
    }
   ],
   "source": [
    "#rotate left\n",
    "def rotateLeft(arr):\n",
    "  temp=arr[0]\n",
    "  i=0\n",
    "  while i<len(arr)-1:\n",
    "    arr[i]=arr[i+1]\n",
    "    i+=1\n",
    "  arr[len(arr)-1]=temp\n",
    "  return arr\n",
    "A=rotateLeft([1,2,5,48,6,5,3,5,6,2,5,3,2,5,3,5,3,5,3])\n",
    "print(A)"
   ]
  },
  {
   "cell_type": "code",
   "execution_count": null,
   "metadata": {
    "id": "O0lMOwn5j8tt"
   },
   "outputs": [],
   "source": [
    "#rotate right\n",
    "def rotateRight(arr):\n",
    "  temp=arr[len(arr)-1]\n",
    "  i=len(arr)-1\n",
    "  while i > 0:\n",
    "    arr[i]=arr[i-1]\n",
    "    i-=1\n",
    "  arr[0]=temp\n",
    "  return arr\n",
    "A=rotateRight([1,2,5,48,6,5,3,5,6,2,5,3,2,5,3,5,3,5,3])\n",
    "print(A)"
   ]
  },
  {
   "cell_type": "markdown",
   "metadata": {
    "id": "5P0FkZLDoAam"
   },
   "source": [
    "##Multidimensional Array"
   ]
  },
  {
   "cell_type": "code",
   "execution_count": null,
   "metadata": {
    "id": "_6a9hYcIoG51"
   },
   "outputs": [],
   "source": [
    "def print_matrix(m):\n",
    "  row,col = m.shape\n",
    "  for i in range(row):\n",
    "    c = 1\n",
    "    print('|', end='')\n",
    "    for j in range(col):\n",
    "      c += 1\n",
    "      if(len(str(m[i][j])) == 1):\n",
    "        print(' ',m[i][j], end = '  |')\n",
    "        c += 6\n",
    "      else:\n",
    "        print(' ',m[i][j], end = ' |')\n",
    "        c += 6\n",
    "    print()\n",
    "    print('-'*(c-col))"
   ]
  },
  {
   "cell_type": "code",
   "execution_count": null,
   "metadata": {
    "id": "GY8fVQqnoKdH"
   },
   "outputs": [],
   "source": [
    "import numpy as np\n",
    "#2D Array\n",
    "def createArray():\n",
    "  m=np.zeros((2,3), dtype=int)\n",
    "  for i in range(2):\n",
    "    for j in range(3):\n",
    "      print(f'element of [{i}][{j}] index:' )\n",
    "      m[i][j]=int(input())\n",
    "  return m\n",
    "print_matrix(createArray())"
   ]
  },
  {
   "cell_type": "code",
   "execution_count": null,
   "metadata": {
    "id": "bgoi51eqoPBV"
   },
   "outputs": [],
   "source": [
    "#row wise iteration\n",
    "def print_row(m):\n",
    "  row,col = m.shape\n",
    "  for i in range(row):\n",
    "    for j in range(col):\n",
    "      print(m[i][j],end=\" \")\n",
    "    print()\n",
    "m=np.array([[4,3,8],[2,5,1]])\n",
    "print_matrix(m)\n",
    "print_row(m)"
   ]
  },
  {
   "cell_type": "code",
   "execution_count": null,
   "metadata": {
    "id": "rlLSj5A8oQtU"
   },
   "outputs": [],
   "source": [
    "#column wise iteration\n",
    "def column_print(m):\n",
    "  row , col = m.shape\n",
    "  for i in range(col):\n",
    "    for j in range(row):\n",
    "      print(m[j][i],end=\" \")\n",
    "    print()\n",
    "column_print(m)\n"
   ]
  },
  {
   "cell_type": "code",
   "execution_count": null,
   "metadata": {
    "id": "CxgYbYqxoSW9"
   },
   "outputs": [],
   "source": [
    "#row wise sum\n",
    "def row_wise_sum(m):\n",
    "  row , col = m.shape\n",
    "  result = np.zeros((row,1),dtype=int)\n",
    "  for i in range(row):\n",
    "    for j in range(col):\n",
    "      result[i][0]+=m[i][j]\n",
    "  return result\n",
    "m=row_wise_sum(m)\n",
    "print_matrix(m)"
   ]
  },
  {
   "cell_type": "code",
   "execution_count": null,
   "metadata": {
    "id": "UAs0qO23oUdo"
   },
   "outputs": [],
   "source": [
    "#col wise sum\n",
    "def col_wise_sum(m):\n",
    "  row , col = m.shape\n",
    "  result=np.zeros((1,col),dtype=int)\n",
    "  for i in range(row):\n",
    "    for j in range(col):\n",
    "      result[0][j]+=m[i][j]\n",
    "  return result\n",
    "m=np.array([[4,3,8],[2,5,1]])\n",
    "\n",
    "print_matrix(col_wise_sum(m))"
   ]
  }
 ],
 "metadata": {
  "colab": {
   "provenance": []
  },
  "kernelspec": {
   "display_name": "Python 3",
   "name": "python3"
  },
  "language_info": {
   "codemirror_mode": {
    "name": "ipython",
    "version": 3
   },
   "file_extension": ".py",
   "mimetype": "text/x-python",
   "name": "python",
   "nbconvert_exporter": "python",
   "pygments_lexer": "ipython3",
   "version": "3.11.9"
  }
 },
 "nbformat": 4,
 "nbformat_minor": 0
}
