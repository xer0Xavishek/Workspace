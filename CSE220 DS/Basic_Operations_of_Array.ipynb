{
  "nbformat": 4,
  "nbformat_minor": 0,
  "metadata": {
    "colab": {
      "provenance": []
    },
    "kernelspec": {
      "name": "python3",
      "display_name": "Python 3"
    },
    "language_info": {
      "name": "python"
    }
  },
  "cells": [
    {
      "cell_type": "markdown",
      "source": [
        "##Linear Array"
      ],
      "metadata": {
        "id": "Pckf0-cjn8uN"
      }
    },
    {
      "cell_type": "code",
      "source": [
        "import numpy as np"
      ],
      "metadata": {
        "id": "-aXD6f8ekJw-"
      },
      "execution_count": 2,
      "outputs": []
    },
    {
      "cell_type": "code",
      "execution_count": null,
      "metadata": {
        "id": "n-oMYeZBjiA6"
      },
      "outputs": [],
      "source": [
        "##reverse out of place\n",
        "def reverseArrayOutOfPlace(arr):\n",
        "  revArr=[None] * len(arr)\n",
        "  i=0\n",
        "  j=len(arr)-1\n",
        "  while i < len(arr):\n",
        "    revArr[i] =arr[j]\n",
        "    i+=1\n",
        "    j-=1\n",
        "  return np.array(revArr)\n",
        "a=reverseArrayOutOfPlace(np.array([1,2,3,4,6,5,4,8,5]))\n",
        "print(a)"
      ]
    },
    {
      "cell_type": "code",
      "source": [
        "## in place reverse\n",
        "def inplace_reverse(arr):\n",
        "  i=0\n",
        "  j=len(arr)-1\n",
        "  while i < len(arr):\n",
        "    arr[i] = arr[j]\n",
        "    i+=1\n",
        "    j-=1\n",
        "  return arr\n",
        "a=inplace_reverse(np.array([1,2,3,4,6,5,4,8,5]))\n",
        "print(a)"
      ],
      "metadata": {
        "id": "dH5bYUhljtO9"
      },
      "execution_count": null,
      "outputs": []
    },
    {
      "cell_type": "code",
      "source": [
        "#left shift\n",
        "def leftShift(arr):\n",
        "  i=0\n",
        "  while i<len(arr)-1:\n",
        "    arr[i]=arr[i+1]\n",
        "    i+=1\n",
        "  arr[len(arr)-1]=None\n",
        "  return arr\n",
        "A=leftShift([1,2,5,48,6,5,3,5,6,2,5,3,2,5,3,5,3,5,3])\n",
        "B=leftShift(A)\n",
        "print(A)\n",
        "\n"
      ],
      "metadata": {
        "id": "7CpURg9kjv-V"
      },
      "execution_count": null,
      "outputs": []
    },
    {
      "cell_type": "code",
      "source": [
        "#right shift\n",
        "def rightShift(arr):\n",
        "  i=len(arr)-1\n",
        "  while i > 0:\n",
        "    arr[i]=arr[i-1]\n",
        "    i-=1\n",
        "\n",
        "  arr[0]=None\n",
        "  return arr\n",
        "A=rightShift([1,2,5,48,6,5,3,5,6,2,5,3,2,5,3,5,3,5,3])\n",
        "print(A)"
      ],
      "metadata": {
        "id": "lsrxKxpIjxxF"
      },
      "execution_count": null,
      "outputs": []
    },
    {
      "cell_type": "code",
      "source": [
        "#rotate left\n",
        "def rotateLeft(arr):\n",
        "  temp=arr[0]\n",
        "  i=0\n",
        "  while i<len(arr)-1:\n",
        "    arr[i]=arr[i+1]\n",
        "    i+=1\n",
        "  arr[len(arr)-1]=temp\n",
        "  return arr\n",
        "A=rotateLeft([1,2,5,48,6,5,3,5,6,2,5,3,2,5,3,5,3,5,3])\n",
        "print(A)"
      ],
      "metadata": {
        "colab": {
          "base_uri": "https://localhost:8080/"
        },
        "id": "aQjSIwUzj0O1",
        "outputId": "c55d7bcf-1467-4bde-ba72-a2f28be480f7"
      },
      "execution_count": 1,
      "outputs": [
        {
          "output_type": "stream",
          "name": "stdout",
          "text": [
            "[2, 5, 48, 6, 5, 3, 5, 6, 2, 5, 3, 2, 5, 3, 5, 3, 5, 3, 1]\n"
          ]
        }
      ]
    },
    {
      "cell_type": "code",
      "source": [
        "#rotate right\n",
        "def rotateRight(arr):\n",
        "  temp=arr[len(arr)-1]\n",
        "  i=len(arr)-1\n",
        "  while i > 0:\n",
        "    arr[i]=arr[i-1]\n",
        "    i-=1\n",
        "  arr[0]=temp\n",
        "  return arr\n",
        "A=rotateRight([1,2,5,48,6,5,3,5,6,2,5,3,2,5,3,5,3,5,3])\n",
        "print(A)"
      ],
      "metadata": {
        "id": "O0lMOwn5j8tt"
      },
      "execution_count": null,
      "outputs": []
    },
    {
      "cell_type": "markdown",
      "source": [
        "##Multidimensional Array"
      ],
      "metadata": {
        "id": "5P0FkZLDoAam"
      }
    },
    {
      "cell_type": "code",
      "source": [
        "def print_matrix(m):\n",
        "  row,col = m.shape\n",
        "  for i in range(row):\n",
        "    c = 1\n",
        "    print('|', end='')\n",
        "    for j in range(col):\n",
        "      c += 1\n",
        "      if(len(str(m[i][j])) == 1):\n",
        "        print(' ',m[i][j], end = '  |')\n",
        "        c += 6\n",
        "      else:\n",
        "        print(' ',m[i][j], end = ' |')\n",
        "        c += 6\n",
        "    print()\n",
        "    print('-'*(c-col))"
      ],
      "metadata": {
        "id": "_6a9hYcIoG51"
      },
      "execution_count": null,
      "outputs": []
    },
    {
      "cell_type": "code",
      "source": [
        "import numpy as np\n",
        "#2D Array\n",
        "def createArray():\n",
        "  m=np.zeros((2,3), dtype=int)\n",
        "  for i in range(2):\n",
        "    for j in range(3):\n",
        "      print(f'element of [{i}][{j}] index:' )\n",
        "      m[i][j]=int(input())\n",
        "  return m\n",
        "print_matrix(createArray())"
      ],
      "metadata": {
        "id": "GY8fVQqnoKdH"
      },
      "execution_count": null,
      "outputs": []
    },
    {
      "cell_type": "code",
      "source": [
        "#row wise iteration\n",
        "def print_row(m):\n",
        "  row,col = m.shape\n",
        "  for i in range(row):\n",
        "    for j in range(col):\n",
        "      print(m[i][j],end=\" \")\n",
        "    print()\n",
        "m=np.array([[4,3,8],[2,5,1]])\n",
        "print_matrix(m)\n",
        "print_row(m)"
      ],
      "metadata": {
        "id": "bgoi51eqoPBV"
      },
      "execution_count": null,
      "outputs": []
    },
    {
      "cell_type": "code",
      "source": [
        "#column wise iteration\n",
        "def column_print(m):\n",
        "  row , col = m.shape\n",
        "  for i in range(col):\n",
        "    for j in range(row):\n",
        "      print(m[j][i],end=\" \")\n",
        "    print()\n",
        "column_print(m)\n"
      ],
      "metadata": {
        "id": "rlLSj5A8oQtU"
      },
      "execution_count": null,
      "outputs": []
    },
    {
      "cell_type": "code",
      "source": [
        "#row wise sum\n",
        "def row_wise_sum(m):\n",
        "  row , col = m.shape\n",
        "  result = np.zeros((row,1),dtype=int)\n",
        "  for i in range(row):\n",
        "    for j in range(col):\n",
        "      result[i][0]+=m[i][j]\n",
        "  return result\n",
        "m=row_wise_sum(m)\n",
        "print_matrix(m)"
      ],
      "metadata": {
        "id": "CxgYbYqxoSW9"
      },
      "execution_count": null,
      "outputs": []
    },
    {
      "cell_type": "code",
      "source": [
        "#col wise sum\n",
        "def col_wise_sum(m):\n",
        "  row , col = m.shape\n",
        "  result=np.zeros((1,col),dtype=int)\n",
        "  for i in range(row):\n",
        "    for j in range(col):\n",
        "      result[0][j]+=m[i][j]\n",
        "  return result\n",
        "m=np.array([[4,3,8],[2,5,1]])\n",
        "\n",
        "print_matrix(col_wise_sum(m))"
      ],
      "metadata": {
        "id": "UAs0qO23oUdo"
      },
      "execution_count": null,
      "outputs": []
    }
  ]
}