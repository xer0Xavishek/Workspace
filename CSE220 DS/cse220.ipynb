{
 "cells": [
  {
   "cell_type": "code",
   "execution_count": 1,
   "metadata": {},
   "outputs": [
    {
     "name": "stdout",
     "output_type": "stream",
     "text": [
      "[5 4 3 2 1]\n"
     ]
    }
   ],
   "source": [
    "#reverse Out of place\n",
    "import numpy as np\n",
    "\n",
    "arra=np.array([1,2,3,4,5])\n",
    "#Target       [5,4,3,2,1]\n",
    "# cant use reverse indexing and cant use any functions\n",
    "\n",
    "def reverseOutOfPlace(arr):\n",
    "    reversedArray=np.zeros(len(arr),dtype=int)\n",
    "    # reversedArray= [None]*len(arr)\n",
    "\n",
    "    i=0\n",
    "    j=len(arr)-1\n",
    "\n",
    "    while i<len(arr):\n",
    "\n",
    "        reversedArray[i]=arr[j]\n",
    "\n",
    "        i+=1\n",
    "        j-=1\n",
    "\n",
    "    return reversedArray\n",
    "\n",
    "kk=np.array([1,2,3,4,5])\n",
    "print(reverseOutOfPlace(kk))\n",
    "\n",
    "    \n"
   ]
  },
  {
   "cell_type": "code",
   "execution_count": 2,
   "metadata": {},
   "outputs": [
    {
     "name": "stdout",
     "output_type": "stream",
     "text": [
      "[2 3 4 4 0]\n"
     ]
    }
   ],
   "source": [
    "#Left Shift\n",
    "import numpy as np\n",
    "\n",
    "a=np.array([1,2,3,4,5])\n",
    "#          [2 3 4 5 0]\n",
    "def leftShift(arr):\n",
    "    for i in range(1,len(arr)-1):\n",
    "\n",
    "        arr[i-1]=arr[i]\n",
    "\n",
    "    arr[len(arr)-1]=0\n",
    "    return arr\n",
    "\n",
    "\n",
    "a=np.array([1,2,3,4,5])\n",
    "\n",
    "a=leftShift(a)\n",
    "print(a)"
   ]
  },
  {
   "cell_type": "code",
   "execution_count": 14,
   "metadata": {},
   "outputs": [
    {
     "name": "stdout",
     "output_type": "stream",
     "text": [
      "[0 1 2 3 4]\n"
     ]
    }
   ],
   "source": [
    "#Right Shift\n",
    "import numpy as np\n",
    "\n",
    "a=np.array([1,2,3,4,5])\n",
    "#          [0 1 2 3 4]\n",
    "def rightShift(arr):\n",
    "    for i in range(len(arr)-1,0,-1):\n",
    "\n",
    "        arr[i]=arr[i-1]\n",
    "\n",
    "    arr[0]=0\n",
    "    return arr\n",
    "\n",
    "a=np.array([1,2,3,4,5])\n",
    "\n",
    "a=rightShift(a)\n",
    "print(a)"
   ]
  }
 ],
 "metadata": {
  "kernelspec": {
   "display_name": "Python 3",
   "language": "python",
   "name": "python3"
  },
  "language_info": {
   "codemirror_mode": {
    "name": "ipython",
    "version": 3
   },
   "file_extension": ".py",
   "mimetype": "text/x-python",
   "name": "python",
   "nbconvert_exporter": "python",
   "pygments_lexer": "ipython3",
   "version": "3.11.9"
  }
 },
 "nbformat": 4,
 "nbformat_minor": 2
}
